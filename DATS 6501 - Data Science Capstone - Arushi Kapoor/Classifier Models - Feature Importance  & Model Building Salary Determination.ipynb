{
 "cells": [
  {
   "cell_type": "code",
   "execution_count": 84,
   "metadata": {
    "scrolled": true
   },
   "outputs": [],
   "source": [
    "import warnings\n",
    "import itertools\n",
    "import numpy as np \n",
    "import pandas as pd\n",
    "import seaborn as sns\n",
    "import matplotlib.pyplot as plt\n",
    "import lightgbm as lgb\n",
    "from sklearn.model_selection import train_test_split\n",
    "from sklearn.metrics import confusion_matrix\n",
    "from sklearn.model_selection import learning_curve\n",
    "from sklearn.ensemble import RandomForestRegressor\n",
    "from sklearn.ensemble import GradientBoostingRegressor\n",
    "from sklearn.model_selection import GridSearchCV, KFold\n",
    "from sklearn import linear_model\n",
    "from scipy.stats import norm\n",
    "from sklearn.metrics import make_scorer, r2_score, mean_squared_error, auc, mean_absolute_error, precision_score, accuracy_score, classification_report"
   ]
  },
  {
   "cell_type": "markdown",
   "metadata": {},
   "source": [
    "### Feature Importance & Model Building"
   ]
  },
  {
   "cell_type": "code",
   "execution_count": 85,
   "metadata": {
    "scrolled": true
   },
   "outputs": [
    {
     "name": "stderr",
     "output_type": "stream",
     "text": [
      "<ipython-input-85-f2bccf692c60>:1: DtypeWarning: Columns (0,195,201,285,286,287,288,289,290,291,292) have mixed types. Specify dtype option on import or set low_memory=False.\n",
      "  df = pd.read_csv(r'C:\\Users\\annak\\OneDrive\\Desktop\\Data Science Capstone\\kaggle_survey_2021_responses.csv')\n"
     ]
    },
    {
     "data": {
      "text/html": [
       "<div>\n",
       "<style scoped>\n",
       "    .dataframe tbody tr th:only-of-type {\n",
       "        vertical-align: middle;\n",
       "    }\n",
       "\n",
       "    .dataframe tbody tr th {\n",
       "        vertical-align: top;\n",
       "    }\n",
       "\n",
       "    .dataframe thead th {\n",
       "        text-align: right;\n",
       "    }\n",
       "</style>\n",
       "<table border=\"1\" class=\"dataframe\">\n",
       "  <thead>\n",
       "    <tr style=\"text-align: right;\">\n",
       "      <th></th>\n",
       "      <th>Time from Start to Finish (seconds)</th>\n",
       "      <th>Q1</th>\n",
       "      <th>Q2</th>\n",
       "      <th>Q3</th>\n",
       "      <th>Q4</th>\n",
       "      <th>Q5</th>\n",
       "      <th>Q6</th>\n",
       "      <th>Q7_Part_1</th>\n",
       "      <th>Q7_Part_2</th>\n",
       "      <th>Q7_Part_3</th>\n",
       "      <th>...</th>\n",
       "      <th>Q38_B_Part_3</th>\n",
       "      <th>Q38_B_Part_4</th>\n",
       "      <th>Q38_B_Part_5</th>\n",
       "      <th>Q38_B_Part_6</th>\n",
       "      <th>Q38_B_Part_7</th>\n",
       "      <th>Q38_B_Part_8</th>\n",
       "      <th>Q38_B_Part_9</th>\n",
       "      <th>Q38_B_Part_10</th>\n",
       "      <th>Q38_B_Part_11</th>\n",
       "      <th>Q38_B_OTHER</th>\n",
       "    </tr>\n",
       "  </thead>\n",
       "  <tbody>\n",
       "    <tr>\n",
       "      <th>0</th>\n",
       "      <td>Duration (in seconds)</td>\n",
       "      <td>What is your age (# years)?</td>\n",
       "      <td>What is your gender? - Selected Choice</td>\n",
       "      <td>In which country do you currently reside?</td>\n",
       "      <td>What is the highest level of formal education ...</td>\n",
       "      <td>Select the title most similar to your current ...</td>\n",
       "      <td>For how many years have you been writing code ...</td>\n",
       "      <td>What programming languages do you use on a reg...</td>\n",
       "      <td>What programming languages do you use on a reg...</td>\n",
       "      <td>What programming languages do you use on a reg...</td>\n",
       "      <td>...</td>\n",
       "      <td>In the next 2 years, do you hope to become mor...</td>\n",
       "      <td>In the next 2 years, do you hope to become mor...</td>\n",
       "      <td>In the next 2 years, do you hope to become mor...</td>\n",
       "      <td>In the next 2 years, do you hope to become mor...</td>\n",
       "      <td>In the next 2 years, do you hope to become mor...</td>\n",
       "      <td>In the next 2 years, do you hope to become mor...</td>\n",
       "      <td>In the next 2 years, do you hope to become mor...</td>\n",
       "      <td>In the next 2 years, do you hope to become mor...</td>\n",
       "      <td>In the next 2 years, do you hope to become mor...</td>\n",
       "      <td>In the next 2 years, do you hope to become mor...</td>\n",
       "    </tr>\n",
       "    <tr>\n",
       "      <th>1</th>\n",
       "      <td>910</td>\n",
       "      <td>50-54</td>\n",
       "      <td>Man</td>\n",
       "      <td>India</td>\n",
       "      <td>Bachelor’s degree</td>\n",
       "      <td>Other</td>\n",
       "      <td>5-10 years</td>\n",
       "      <td>Python</td>\n",
       "      <td>R</td>\n",
       "      <td>NaN</td>\n",
       "      <td>...</td>\n",
       "      <td>NaN</td>\n",
       "      <td>NaN</td>\n",
       "      <td>NaN</td>\n",
       "      <td>NaN</td>\n",
       "      <td>NaN</td>\n",
       "      <td>NaN</td>\n",
       "      <td>NaN</td>\n",
       "      <td>NaN</td>\n",
       "      <td>NaN</td>\n",
       "      <td>NaN</td>\n",
       "    </tr>\n",
       "    <tr>\n",
       "      <th>2</th>\n",
       "      <td>784</td>\n",
       "      <td>50-54</td>\n",
       "      <td>Man</td>\n",
       "      <td>Indonesia</td>\n",
       "      <td>Master’s degree</td>\n",
       "      <td>Program/Project Manager</td>\n",
       "      <td>20+ years</td>\n",
       "      <td>NaN</td>\n",
       "      <td>NaN</td>\n",
       "      <td>SQL</td>\n",
       "      <td>...</td>\n",
       "      <td>NaN</td>\n",
       "      <td>NaN</td>\n",
       "      <td>NaN</td>\n",
       "      <td>NaN</td>\n",
       "      <td>NaN</td>\n",
       "      <td>NaN</td>\n",
       "      <td>NaN</td>\n",
       "      <td>NaN</td>\n",
       "      <td>None</td>\n",
       "      <td>NaN</td>\n",
       "    </tr>\n",
       "    <tr>\n",
       "      <th>3</th>\n",
       "      <td>924</td>\n",
       "      <td>22-24</td>\n",
       "      <td>Man</td>\n",
       "      <td>Pakistan</td>\n",
       "      <td>Master’s degree</td>\n",
       "      <td>Software Engineer</td>\n",
       "      <td>1-3 years</td>\n",
       "      <td>Python</td>\n",
       "      <td>NaN</td>\n",
       "      <td>NaN</td>\n",
       "      <td>...</td>\n",
       "      <td>NaN</td>\n",
       "      <td>NaN</td>\n",
       "      <td>TensorBoard</td>\n",
       "      <td>NaN</td>\n",
       "      <td>NaN</td>\n",
       "      <td>NaN</td>\n",
       "      <td>NaN</td>\n",
       "      <td>NaN</td>\n",
       "      <td>NaN</td>\n",
       "      <td>NaN</td>\n",
       "    </tr>\n",
       "    <tr>\n",
       "      <th>4</th>\n",
       "      <td>575</td>\n",
       "      <td>45-49</td>\n",
       "      <td>Man</td>\n",
       "      <td>Mexico</td>\n",
       "      <td>Doctoral degree</td>\n",
       "      <td>Research Scientist</td>\n",
       "      <td>20+ years</td>\n",
       "      <td>Python</td>\n",
       "      <td>NaN</td>\n",
       "      <td>NaN</td>\n",
       "      <td>...</td>\n",
       "      <td>NaN</td>\n",
       "      <td>NaN</td>\n",
       "      <td>NaN</td>\n",
       "      <td>NaN</td>\n",
       "      <td>NaN</td>\n",
       "      <td>NaN</td>\n",
       "      <td>NaN</td>\n",
       "      <td>NaN</td>\n",
       "      <td>None</td>\n",
       "      <td>NaN</td>\n",
       "    </tr>\n",
       "    <tr>\n",
       "      <th>...</th>\n",
       "      <td>...</td>\n",
       "      <td>...</td>\n",
       "      <td>...</td>\n",
       "      <td>...</td>\n",
       "      <td>...</td>\n",
       "      <td>...</td>\n",
       "      <td>...</td>\n",
       "      <td>...</td>\n",
       "      <td>...</td>\n",
       "      <td>...</td>\n",
       "      <td>...</td>\n",
       "      <td>...</td>\n",
       "      <td>...</td>\n",
       "      <td>...</td>\n",
       "      <td>...</td>\n",
       "      <td>...</td>\n",
       "      <td>...</td>\n",
       "      <td>...</td>\n",
       "      <td>...</td>\n",
       "      <td>...</td>\n",
       "      <td>...</td>\n",
       "    </tr>\n",
       "    <tr>\n",
       "      <th>25969</th>\n",
       "      <td>1756</td>\n",
       "      <td>30-34</td>\n",
       "      <td>Man</td>\n",
       "      <td>Egypt</td>\n",
       "      <td>Bachelor’s degree</td>\n",
       "      <td>Data Analyst</td>\n",
       "      <td>1-3 years</td>\n",
       "      <td>Python</td>\n",
       "      <td>NaN</td>\n",
       "      <td>SQL</td>\n",
       "      <td>...</td>\n",
       "      <td>NaN</td>\n",
       "      <td>NaN</td>\n",
       "      <td>NaN</td>\n",
       "      <td>NaN</td>\n",
       "      <td>NaN</td>\n",
       "      <td>NaN</td>\n",
       "      <td>NaN</td>\n",
       "      <td>NaN</td>\n",
       "      <td>NaN</td>\n",
       "      <td>NaN</td>\n",
       "    </tr>\n",
       "    <tr>\n",
       "      <th>25970</th>\n",
       "      <td>253</td>\n",
       "      <td>22-24</td>\n",
       "      <td>Man</td>\n",
       "      <td>China</td>\n",
       "      <td>Master’s degree</td>\n",
       "      <td>Student</td>\n",
       "      <td>1-3 years</td>\n",
       "      <td>Python</td>\n",
       "      <td>NaN</td>\n",
       "      <td>NaN</td>\n",
       "      <td>...</td>\n",
       "      <td>NaN</td>\n",
       "      <td>NaN</td>\n",
       "      <td>NaN</td>\n",
       "      <td>NaN</td>\n",
       "      <td>NaN</td>\n",
       "      <td>NaN</td>\n",
       "      <td>NaN</td>\n",
       "      <td>NaN</td>\n",
       "      <td>NaN</td>\n",
       "      <td>NaN</td>\n",
       "    </tr>\n",
       "    <tr>\n",
       "      <th>25971</th>\n",
       "      <td>494</td>\n",
       "      <td>50-54</td>\n",
       "      <td>Man</td>\n",
       "      <td>Sweden</td>\n",
       "      <td>Doctoral degree</td>\n",
       "      <td>Research Scientist</td>\n",
       "      <td>I have never written code</td>\n",
       "      <td>NaN</td>\n",
       "      <td>NaN</td>\n",
       "      <td>NaN</td>\n",
       "      <td>...</td>\n",
       "      <td>NaN</td>\n",
       "      <td>NaN</td>\n",
       "      <td>NaN</td>\n",
       "      <td>NaN</td>\n",
       "      <td>NaN</td>\n",
       "      <td>NaN</td>\n",
       "      <td>NaN</td>\n",
       "      <td>NaN</td>\n",
       "      <td>None</td>\n",
       "      <td>NaN</td>\n",
       "    </tr>\n",
       "    <tr>\n",
       "      <th>25972</th>\n",
       "      <td>277</td>\n",
       "      <td>45-49</td>\n",
       "      <td>Man</td>\n",
       "      <td>United States of America</td>\n",
       "      <td>Master’s degree</td>\n",
       "      <td>Data Scientist</td>\n",
       "      <td>5-10 years</td>\n",
       "      <td>Python</td>\n",
       "      <td>NaN</td>\n",
       "      <td>SQL</td>\n",
       "      <td>...</td>\n",
       "      <td>NaN</td>\n",
       "      <td>NaN</td>\n",
       "      <td>NaN</td>\n",
       "      <td>NaN</td>\n",
       "      <td>NaN</td>\n",
       "      <td>NaN</td>\n",
       "      <td>NaN</td>\n",
       "      <td>NaN</td>\n",
       "      <td>NaN</td>\n",
       "      <td>NaN</td>\n",
       "    </tr>\n",
       "    <tr>\n",
       "      <th>25973</th>\n",
       "      <td>255</td>\n",
       "      <td>18-21</td>\n",
       "      <td>Man</td>\n",
       "      <td>India</td>\n",
       "      <td>Bachelor’s degree</td>\n",
       "      <td>Business Analyst</td>\n",
       "      <td>I have never written code</td>\n",
       "      <td>NaN</td>\n",
       "      <td>NaN</td>\n",
       "      <td>NaN</td>\n",
       "      <td>...</td>\n",
       "      <td>NaN</td>\n",
       "      <td>NaN</td>\n",
       "      <td>NaN</td>\n",
       "      <td>NaN</td>\n",
       "      <td>NaN</td>\n",
       "      <td>NaN</td>\n",
       "      <td>NaN</td>\n",
       "      <td>NaN</td>\n",
       "      <td>None</td>\n",
       "      <td>NaN</td>\n",
       "    </tr>\n",
       "  </tbody>\n",
       "</table>\n",
       "<p>25974 rows × 369 columns</p>\n",
       "</div>"
      ],
      "text/plain": [
       "      Time from Start to Finish (seconds)                           Q1  \\\n",
       "0                   Duration (in seconds)  What is your age (# years)?   \n",
       "1                                     910                        50-54   \n",
       "2                                     784                        50-54   \n",
       "3                                     924                        22-24   \n",
       "4                                     575                        45-49   \n",
       "...                                   ...                          ...   \n",
       "25969                                1756                        30-34   \n",
       "25970                                 253                        22-24   \n",
       "25971                                 494                        50-54   \n",
       "25972                                 277                        45-49   \n",
       "25973                                 255                        18-21   \n",
       "\n",
       "                                           Q2  \\\n",
       "0      What is your gender? - Selected Choice   \n",
       "1                                         Man   \n",
       "2                                         Man   \n",
       "3                                         Man   \n",
       "4                                         Man   \n",
       "...                                       ...   \n",
       "25969                                     Man   \n",
       "25970                                     Man   \n",
       "25971                                     Man   \n",
       "25972                                     Man   \n",
       "25973                                     Man   \n",
       "\n",
       "                                              Q3  \\\n",
       "0      In which country do you currently reside?   \n",
       "1                                          India   \n",
       "2                                      Indonesia   \n",
       "3                                       Pakistan   \n",
       "4                                         Mexico   \n",
       "...                                          ...   \n",
       "25969                                      Egypt   \n",
       "25970                                      China   \n",
       "25971                                     Sweden   \n",
       "25972                   United States of America   \n",
       "25973                                      India   \n",
       "\n",
       "                                                      Q4  \\\n",
       "0      What is the highest level of formal education ...   \n",
       "1                                      Bachelor’s degree   \n",
       "2                                        Master’s degree   \n",
       "3                                        Master’s degree   \n",
       "4                                        Doctoral degree   \n",
       "...                                                  ...   \n",
       "25969                                  Bachelor’s degree   \n",
       "25970                                    Master’s degree   \n",
       "25971                                    Doctoral degree   \n",
       "25972                                    Master’s degree   \n",
       "25973                                  Bachelor’s degree   \n",
       "\n",
       "                                                      Q5  \\\n",
       "0      Select the title most similar to your current ...   \n",
       "1                                                  Other   \n",
       "2                                Program/Project Manager   \n",
       "3                                      Software Engineer   \n",
       "4                                     Research Scientist   \n",
       "...                                                  ...   \n",
       "25969                                       Data Analyst   \n",
       "25970                                            Student   \n",
       "25971                                 Research Scientist   \n",
       "25972                                     Data Scientist   \n",
       "25973                                   Business Analyst   \n",
       "\n",
       "                                                      Q6  \\\n",
       "0      For how many years have you been writing code ...   \n",
       "1                                             5-10 years   \n",
       "2                                              20+ years   \n",
       "3                                              1-3 years   \n",
       "4                                              20+ years   \n",
       "...                                                  ...   \n",
       "25969                                          1-3 years   \n",
       "25970                                          1-3 years   \n",
       "25971                          I have never written code   \n",
       "25972                                         5-10 years   \n",
       "25973                          I have never written code   \n",
       "\n",
       "                                               Q7_Part_1  \\\n",
       "0      What programming languages do you use on a reg...   \n",
       "1                                                 Python   \n",
       "2                                                    NaN   \n",
       "3                                                 Python   \n",
       "4                                                 Python   \n",
       "...                                                  ...   \n",
       "25969                                             Python   \n",
       "25970                                             Python   \n",
       "25971                                                NaN   \n",
       "25972                                             Python   \n",
       "25973                                                NaN   \n",
       "\n",
       "                                               Q7_Part_2  \\\n",
       "0      What programming languages do you use on a reg...   \n",
       "1                                                      R   \n",
       "2                                                    NaN   \n",
       "3                                                    NaN   \n",
       "4                                                    NaN   \n",
       "...                                                  ...   \n",
       "25969                                                NaN   \n",
       "25970                                                NaN   \n",
       "25971                                                NaN   \n",
       "25972                                                NaN   \n",
       "25973                                                NaN   \n",
       "\n",
       "                                               Q7_Part_3  ...  \\\n",
       "0      What programming languages do you use on a reg...  ...   \n",
       "1                                                    NaN  ...   \n",
       "2                                                    SQL  ...   \n",
       "3                                                    NaN  ...   \n",
       "4                                                    NaN  ...   \n",
       "...                                                  ...  ...   \n",
       "25969                                                SQL  ...   \n",
       "25970                                                NaN  ...   \n",
       "25971                                                NaN  ...   \n",
       "25972                                                SQL  ...   \n",
       "25973                                                NaN  ...   \n",
       "\n",
       "                                            Q38_B_Part_3  \\\n",
       "0      In the next 2 years, do you hope to become mor...   \n",
       "1                                                    NaN   \n",
       "2                                                    NaN   \n",
       "3                                                    NaN   \n",
       "4                                                    NaN   \n",
       "...                                                  ...   \n",
       "25969                                                NaN   \n",
       "25970                                                NaN   \n",
       "25971                                                NaN   \n",
       "25972                                                NaN   \n",
       "25973                                                NaN   \n",
       "\n",
       "                                            Q38_B_Part_4  \\\n",
       "0      In the next 2 years, do you hope to become mor...   \n",
       "1                                                    NaN   \n",
       "2                                                    NaN   \n",
       "3                                                    NaN   \n",
       "4                                                    NaN   \n",
       "...                                                  ...   \n",
       "25969                                                NaN   \n",
       "25970                                                NaN   \n",
       "25971                                                NaN   \n",
       "25972                                                NaN   \n",
       "25973                                                NaN   \n",
       "\n",
       "                                            Q38_B_Part_5  \\\n",
       "0      In the next 2 years, do you hope to become mor...   \n",
       "1                                                    NaN   \n",
       "2                                                    NaN   \n",
       "3                                           TensorBoard    \n",
       "4                                                    NaN   \n",
       "...                                                  ...   \n",
       "25969                                                NaN   \n",
       "25970                                                NaN   \n",
       "25971                                                NaN   \n",
       "25972                                                NaN   \n",
       "25973                                                NaN   \n",
       "\n",
       "                                            Q38_B_Part_6  \\\n",
       "0      In the next 2 years, do you hope to become mor...   \n",
       "1                                                    NaN   \n",
       "2                                                    NaN   \n",
       "3                                                    NaN   \n",
       "4                                                    NaN   \n",
       "...                                                  ...   \n",
       "25969                                                NaN   \n",
       "25970                                                NaN   \n",
       "25971                                                NaN   \n",
       "25972                                                NaN   \n",
       "25973                                                NaN   \n",
       "\n",
       "                                            Q38_B_Part_7  \\\n",
       "0      In the next 2 years, do you hope to become mor...   \n",
       "1                                                    NaN   \n",
       "2                                                    NaN   \n",
       "3                                                    NaN   \n",
       "4                                                    NaN   \n",
       "...                                                  ...   \n",
       "25969                                                NaN   \n",
       "25970                                                NaN   \n",
       "25971                                                NaN   \n",
       "25972                                                NaN   \n",
       "25973                                                NaN   \n",
       "\n",
       "                                            Q38_B_Part_8  \\\n",
       "0      In the next 2 years, do you hope to become mor...   \n",
       "1                                                    NaN   \n",
       "2                                                    NaN   \n",
       "3                                                    NaN   \n",
       "4                                                    NaN   \n",
       "...                                                  ...   \n",
       "25969                                                NaN   \n",
       "25970                                                NaN   \n",
       "25971                                                NaN   \n",
       "25972                                                NaN   \n",
       "25973                                                NaN   \n",
       "\n",
       "                                            Q38_B_Part_9  \\\n",
       "0      In the next 2 years, do you hope to become mor...   \n",
       "1                                                    NaN   \n",
       "2                                                    NaN   \n",
       "3                                                    NaN   \n",
       "4                                                    NaN   \n",
       "...                                                  ...   \n",
       "25969                                                NaN   \n",
       "25970                                                NaN   \n",
       "25971                                                NaN   \n",
       "25972                                                NaN   \n",
       "25973                                                NaN   \n",
       "\n",
       "                                           Q38_B_Part_10  \\\n",
       "0      In the next 2 years, do you hope to become mor...   \n",
       "1                                                    NaN   \n",
       "2                                                    NaN   \n",
       "3                                                    NaN   \n",
       "4                                                    NaN   \n",
       "...                                                  ...   \n",
       "25969                                                NaN   \n",
       "25970                                                NaN   \n",
       "25971                                                NaN   \n",
       "25972                                                NaN   \n",
       "25973                                                NaN   \n",
       "\n",
       "                                           Q38_B_Part_11  \\\n",
       "0      In the next 2 years, do you hope to become mor...   \n",
       "1                                                    NaN   \n",
       "2                                                   None   \n",
       "3                                                    NaN   \n",
       "4                                                   None   \n",
       "...                                                  ...   \n",
       "25969                                                NaN   \n",
       "25970                                                NaN   \n",
       "25971                                               None   \n",
       "25972                                                NaN   \n",
       "25973                                               None   \n",
       "\n",
       "                                             Q38_B_OTHER  \n",
       "0      In the next 2 years, do you hope to become mor...  \n",
       "1                                                    NaN  \n",
       "2                                                    NaN  \n",
       "3                                                    NaN  \n",
       "4                                                    NaN  \n",
       "...                                                  ...  \n",
       "25969                                                NaN  \n",
       "25970                                                NaN  \n",
       "25971                                                NaN  \n",
       "25972                                                NaN  \n",
       "25973                                                NaN  \n",
       "\n",
       "[25974 rows x 369 columns]"
      ]
     },
     "execution_count": 85,
     "metadata": {},
     "output_type": "execute_result"
    }
   ],
   "source": [
    "df = pd.read_csv(r'C:\\Users\\annak\\OneDrive\\Desktop\\Data Science Capstone\\kaggle_survey_2021_responses.csv')\n",
    "df"
   ]
  },
  {
   "cell_type": "code",
   "execution_count": 86,
   "metadata": {
    "scrolled": true
   },
   "outputs": [
    {
     "data": {
      "text/html": [
       "<div>\n",
       "<style scoped>\n",
       "    .dataframe tbody tr th:only-of-type {\n",
       "        vertical-align: middle;\n",
       "    }\n",
       "\n",
       "    .dataframe tbody tr th {\n",
       "        vertical-align: top;\n",
       "    }\n",
       "\n",
       "    .dataframe thead th {\n",
       "        text-align: right;\n",
       "    }\n",
       "</style>\n",
       "<table border=\"1\" class=\"dataframe\">\n",
       "  <thead>\n",
       "    <tr style=\"text-align: right;\">\n",
       "      <th></th>\n",
       "      <th>Time from Start to Finish (seconds)</th>\n",
       "      <th>Q1</th>\n",
       "      <th>Q2</th>\n",
       "      <th>Q3</th>\n",
       "      <th>Q4</th>\n",
       "      <th>Q5</th>\n",
       "      <th>Q6</th>\n",
       "      <th>Q7_Part_1</th>\n",
       "      <th>Q7_Part_2</th>\n",
       "      <th>Q7_Part_3</th>\n",
       "      <th>...</th>\n",
       "      <th>Q38_B_Part_3</th>\n",
       "      <th>Q38_B_Part_4</th>\n",
       "      <th>Q38_B_Part_5</th>\n",
       "      <th>Q38_B_Part_6</th>\n",
       "      <th>Q38_B_Part_7</th>\n",
       "      <th>Q38_B_Part_8</th>\n",
       "      <th>Q38_B_Part_9</th>\n",
       "      <th>Q38_B_Part_10</th>\n",
       "      <th>Q38_B_Part_11</th>\n",
       "      <th>Q38_B_OTHER</th>\n",
       "    </tr>\n",
       "  </thead>\n",
       "  <tbody>\n",
       "    <tr>\n",
       "      <th>1</th>\n",
       "      <td>910</td>\n",
       "      <td>50-54</td>\n",
       "      <td>Man</td>\n",
       "      <td>India</td>\n",
       "      <td>Bachelor’s degree</td>\n",
       "      <td>Other</td>\n",
       "      <td>5-10 years</td>\n",
       "      <td>Python</td>\n",
       "      <td>R</td>\n",
       "      <td>NaN</td>\n",
       "      <td>...</td>\n",
       "      <td>NaN</td>\n",
       "      <td>NaN</td>\n",
       "      <td>NaN</td>\n",
       "      <td>NaN</td>\n",
       "      <td>NaN</td>\n",
       "      <td>NaN</td>\n",
       "      <td>NaN</td>\n",
       "      <td>NaN</td>\n",
       "      <td>NaN</td>\n",
       "      <td>NaN</td>\n",
       "    </tr>\n",
       "    <tr>\n",
       "      <th>2</th>\n",
       "      <td>784</td>\n",
       "      <td>50-54</td>\n",
       "      <td>Man</td>\n",
       "      <td>Indonesia</td>\n",
       "      <td>Master’s degree</td>\n",
       "      <td>Program/Project Manager</td>\n",
       "      <td>20+ years</td>\n",
       "      <td>NaN</td>\n",
       "      <td>NaN</td>\n",
       "      <td>SQL</td>\n",
       "      <td>...</td>\n",
       "      <td>NaN</td>\n",
       "      <td>NaN</td>\n",
       "      <td>NaN</td>\n",
       "      <td>NaN</td>\n",
       "      <td>NaN</td>\n",
       "      <td>NaN</td>\n",
       "      <td>NaN</td>\n",
       "      <td>NaN</td>\n",
       "      <td>None</td>\n",
       "      <td>NaN</td>\n",
       "    </tr>\n",
       "    <tr>\n",
       "      <th>3</th>\n",
       "      <td>924</td>\n",
       "      <td>22-24</td>\n",
       "      <td>Man</td>\n",
       "      <td>Pakistan</td>\n",
       "      <td>Master’s degree</td>\n",
       "      <td>Software Engineer</td>\n",
       "      <td>1-3 years</td>\n",
       "      <td>Python</td>\n",
       "      <td>NaN</td>\n",
       "      <td>NaN</td>\n",
       "      <td>...</td>\n",
       "      <td>NaN</td>\n",
       "      <td>NaN</td>\n",
       "      <td>TensorBoard</td>\n",
       "      <td>NaN</td>\n",
       "      <td>NaN</td>\n",
       "      <td>NaN</td>\n",
       "      <td>NaN</td>\n",
       "      <td>NaN</td>\n",
       "      <td>NaN</td>\n",
       "      <td>NaN</td>\n",
       "    </tr>\n",
       "    <tr>\n",
       "      <th>4</th>\n",
       "      <td>575</td>\n",
       "      <td>45-49</td>\n",
       "      <td>Man</td>\n",
       "      <td>Mexico</td>\n",
       "      <td>Doctoral degree</td>\n",
       "      <td>Research Scientist</td>\n",
       "      <td>20+ years</td>\n",
       "      <td>Python</td>\n",
       "      <td>NaN</td>\n",
       "      <td>NaN</td>\n",
       "      <td>...</td>\n",
       "      <td>NaN</td>\n",
       "      <td>NaN</td>\n",
       "      <td>NaN</td>\n",
       "      <td>NaN</td>\n",
       "      <td>NaN</td>\n",
       "      <td>NaN</td>\n",
       "      <td>NaN</td>\n",
       "      <td>NaN</td>\n",
       "      <td>None</td>\n",
       "      <td>NaN</td>\n",
       "    </tr>\n",
       "    <tr>\n",
       "      <th>5</th>\n",
       "      <td>781</td>\n",
       "      <td>45-49</td>\n",
       "      <td>Man</td>\n",
       "      <td>India</td>\n",
       "      <td>Doctoral degree</td>\n",
       "      <td>Other</td>\n",
       "      <td>&lt; 1 years</td>\n",
       "      <td>Python</td>\n",
       "      <td>NaN</td>\n",
       "      <td>NaN</td>\n",
       "      <td>...</td>\n",
       "      <td>NaN</td>\n",
       "      <td>NaN</td>\n",
       "      <td>NaN</td>\n",
       "      <td>NaN</td>\n",
       "      <td>NaN</td>\n",
       "      <td>NaN</td>\n",
       "      <td>NaN</td>\n",
       "      <td>NaN</td>\n",
       "      <td>NaN</td>\n",
       "      <td>NaN</td>\n",
       "    </tr>\n",
       "    <tr>\n",
       "      <th>...</th>\n",
       "      <td>...</td>\n",
       "      <td>...</td>\n",
       "      <td>...</td>\n",
       "      <td>...</td>\n",
       "      <td>...</td>\n",
       "      <td>...</td>\n",
       "      <td>...</td>\n",
       "      <td>...</td>\n",
       "      <td>...</td>\n",
       "      <td>...</td>\n",
       "      <td>...</td>\n",
       "      <td>...</td>\n",
       "      <td>...</td>\n",
       "      <td>...</td>\n",
       "      <td>...</td>\n",
       "      <td>...</td>\n",
       "      <td>...</td>\n",
       "      <td>...</td>\n",
       "      <td>...</td>\n",
       "      <td>...</td>\n",
       "      <td>...</td>\n",
       "    </tr>\n",
       "    <tr>\n",
       "      <th>25969</th>\n",
       "      <td>1756</td>\n",
       "      <td>30-34</td>\n",
       "      <td>Man</td>\n",
       "      <td>Egypt</td>\n",
       "      <td>Bachelor’s degree</td>\n",
       "      <td>Data Analyst</td>\n",
       "      <td>1-3 years</td>\n",
       "      <td>Python</td>\n",
       "      <td>NaN</td>\n",
       "      <td>SQL</td>\n",
       "      <td>...</td>\n",
       "      <td>NaN</td>\n",
       "      <td>NaN</td>\n",
       "      <td>NaN</td>\n",
       "      <td>NaN</td>\n",
       "      <td>NaN</td>\n",
       "      <td>NaN</td>\n",
       "      <td>NaN</td>\n",
       "      <td>NaN</td>\n",
       "      <td>NaN</td>\n",
       "      <td>NaN</td>\n",
       "    </tr>\n",
       "    <tr>\n",
       "      <th>25970</th>\n",
       "      <td>253</td>\n",
       "      <td>22-24</td>\n",
       "      <td>Man</td>\n",
       "      <td>China</td>\n",
       "      <td>Master’s degree</td>\n",
       "      <td>Student</td>\n",
       "      <td>1-3 years</td>\n",
       "      <td>Python</td>\n",
       "      <td>NaN</td>\n",
       "      <td>NaN</td>\n",
       "      <td>...</td>\n",
       "      <td>NaN</td>\n",
       "      <td>NaN</td>\n",
       "      <td>NaN</td>\n",
       "      <td>NaN</td>\n",
       "      <td>NaN</td>\n",
       "      <td>NaN</td>\n",
       "      <td>NaN</td>\n",
       "      <td>NaN</td>\n",
       "      <td>NaN</td>\n",
       "      <td>NaN</td>\n",
       "    </tr>\n",
       "    <tr>\n",
       "      <th>25971</th>\n",
       "      <td>494</td>\n",
       "      <td>50-54</td>\n",
       "      <td>Man</td>\n",
       "      <td>Sweden</td>\n",
       "      <td>Doctoral degree</td>\n",
       "      <td>Research Scientist</td>\n",
       "      <td>I have never written code</td>\n",
       "      <td>NaN</td>\n",
       "      <td>NaN</td>\n",
       "      <td>NaN</td>\n",
       "      <td>...</td>\n",
       "      <td>NaN</td>\n",
       "      <td>NaN</td>\n",
       "      <td>NaN</td>\n",
       "      <td>NaN</td>\n",
       "      <td>NaN</td>\n",
       "      <td>NaN</td>\n",
       "      <td>NaN</td>\n",
       "      <td>NaN</td>\n",
       "      <td>None</td>\n",
       "      <td>NaN</td>\n",
       "    </tr>\n",
       "    <tr>\n",
       "      <th>25972</th>\n",
       "      <td>277</td>\n",
       "      <td>45-49</td>\n",
       "      <td>Man</td>\n",
       "      <td>United States of America</td>\n",
       "      <td>Master’s degree</td>\n",
       "      <td>Data Scientist</td>\n",
       "      <td>5-10 years</td>\n",
       "      <td>Python</td>\n",
       "      <td>NaN</td>\n",
       "      <td>SQL</td>\n",
       "      <td>...</td>\n",
       "      <td>NaN</td>\n",
       "      <td>NaN</td>\n",
       "      <td>NaN</td>\n",
       "      <td>NaN</td>\n",
       "      <td>NaN</td>\n",
       "      <td>NaN</td>\n",
       "      <td>NaN</td>\n",
       "      <td>NaN</td>\n",
       "      <td>NaN</td>\n",
       "      <td>NaN</td>\n",
       "    </tr>\n",
       "    <tr>\n",
       "      <th>25973</th>\n",
       "      <td>255</td>\n",
       "      <td>18-21</td>\n",
       "      <td>Man</td>\n",
       "      <td>India</td>\n",
       "      <td>Bachelor’s degree</td>\n",
       "      <td>Business Analyst</td>\n",
       "      <td>I have never written code</td>\n",
       "      <td>NaN</td>\n",
       "      <td>NaN</td>\n",
       "      <td>NaN</td>\n",
       "      <td>...</td>\n",
       "      <td>NaN</td>\n",
       "      <td>NaN</td>\n",
       "      <td>NaN</td>\n",
       "      <td>NaN</td>\n",
       "      <td>NaN</td>\n",
       "      <td>NaN</td>\n",
       "      <td>NaN</td>\n",
       "      <td>NaN</td>\n",
       "      <td>None</td>\n",
       "      <td>NaN</td>\n",
       "    </tr>\n",
       "  </tbody>\n",
       "</table>\n",
       "<p>25973 rows × 369 columns</p>\n",
       "</div>"
      ],
      "text/plain": [
       "      Time from Start to Finish (seconds)     Q1   Q2  \\\n",
       "1                                     910  50-54  Man   \n",
       "2                                     784  50-54  Man   \n",
       "3                                     924  22-24  Man   \n",
       "4                                     575  45-49  Man   \n",
       "5                                     781  45-49  Man   \n",
       "...                                   ...    ...  ...   \n",
       "25969                                1756  30-34  Man   \n",
       "25970                                 253  22-24  Man   \n",
       "25971                                 494  50-54  Man   \n",
       "25972                                 277  45-49  Man   \n",
       "25973                                 255  18-21  Man   \n",
       "\n",
       "                             Q3                 Q4                       Q5  \\\n",
       "1                         India  Bachelor’s degree                    Other   \n",
       "2                     Indonesia    Master’s degree  Program/Project Manager   \n",
       "3                      Pakistan    Master’s degree        Software Engineer   \n",
       "4                        Mexico    Doctoral degree       Research Scientist   \n",
       "5                         India    Doctoral degree                    Other   \n",
       "...                         ...                ...                      ...   \n",
       "25969                     Egypt  Bachelor’s degree             Data Analyst   \n",
       "25970                     China    Master’s degree                  Student   \n",
       "25971                    Sweden    Doctoral degree       Research Scientist   \n",
       "25972  United States of America    Master’s degree           Data Scientist   \n",
       "25973                     India  Bachelor’s degree         Business Analyst   \n",
       "\n",
       "                              Q6 Q7_Part_1 Q7_Part_2 Q7_Part_3  ...  \\\n",
       "1                     5-10 years    Python         R       NaN  ...   \n",
       "2                      20+ years       NaN       NaN       SQL  ...   \n",
       "3                      1-3 years    Python       NaN       NaN  ...   \n",
       "4                      20+ years    Python       NaN       NaN  ...   \n",
       "5                      < 1 years    Python       NaN       NaN  ...   \n",
       "...                          ...       ...       ...       ...  ...   \n",
       "25969                  1-3 years    Python       NaN       SQL  ...   \n",
       "25970                  1-3 years    Python       NaN       NaN  ...   \n",
       "25971  I have never written code       NaN       NaN       NaN  ...   \n",
       "25972                 5-10 years    Python       NaN       SQL  ...   \n",
       "25973  I have never written code       NaN       NaN       NaN  ...   \n",
       "\n",
       "      Q38_B_Part_3 Q38_B_Part_4   Q38_B_Part_5 Q38_B_Part_6 Q38_B_Part_7  \\\n",
       "1              NaN          NaN            NaN          NaN          NaN   \n",
       "2              NaN          NaN            NaN          NaN          NaN   \n",
       "3              NaN          NaN   TensorBoard           NaN          NaN   \n",
       "4              NaN          NaN            NaN          NaN          NaN   \n",
       "5              NaN          NaN            NaN          NaN          NaN   \n",
       "...            ...          ...            ...          ...          ...   \n",
       "25969          NaN          NaN            NaN          NaN          NaN   \n",
       "25970          NaN          NaN            NaN          NaN          NaN   \n",
       "25971          NaN          NaN            NaN          NaN          NaN   \n",
       "25972          NaN          NaN            NaN          NaN          NaN   \n",
       "25973          NaN          NaN            NaN          NaN          NaN   \n",
       "\n",
       "      Q38_B_Part_8 Q38_B_Part_9 Q38_B_Part_10 Q38_B_Part_11 Q38_B_OTHER  \n",
       "1              NaN          NaN           NaN           NaN         NaN  \n",
       "2              NaN          NaN           NaN          None         NaN  \n",
       "3              NaN          NaN           NaN           NaN         NaN  \n",
       "4              NaN          NaN           NaN          None         NaN  \n",
       "5              NaN          NaN           NaN           NaN         NaN  \n",
       "...            ...          ...           ...           ...         ...  \n",
       "25969          NaN          NaN           NaN           NaN         NaN  \n",
       "25970          NaN          NaN           NaN           NaN         NaN  \n",
       "25971          NaN          NaN           NaN          None         NaN  \n",
       "25972          NaN          NaN           NaN           NaN         NaN  \n",
       "25973          NaN          NaN           NaN          None         NaN  \n",
       "\n",
       "[25973 rows x 369 columns]"
      ]
     },
     "execution_count": 86,
     "metadata": {},
     "output_type": "execute_result"
    }
   ],
   "source": [
    "question_names = df.iloc[0]\n",
    "df = df.drop(0, axis=0)\n",
    "df"
   ]
  },
  {
   "cell_type": "code",
   "execution_count": 87,
   "metadata": {
    "scrolled": true
   },
   "outputs": [
    {
     "name": "stdout",
     "output_type": "stream",
     "text": [
      "What is your current yearly compensation (approximate $USD)?\n"
     ]
    }
   ],
   "source": [
    "print(question_names['Q25'])"
   ]
  },
  {
   "cell_type": "code",
   "execution_count": 88,
   "metadata": {
    "scrolled": true
   },
   "outputs": [
    {
     "data": {
      "text/html": [
       "<div>\n",
       "<style scoped>\n",
       "    .dataframe tbody tr th:only-of-type {\n",
       "        vertical-align: middle;\n",
       "    }\n",
       "\n",
       "    .dataframe tbody tr th {\n",
       "        vertical-align: top;\n",
       "    }\n",
       "\n",
       "    .dataframe thead th {\n",
       "        text-align: right;\n",
       "    }\n",
       "</style>\n",
       "<table border=\"1\" class=\"dataframe\">\n",
       "  <thead>\n",
       "    <tr style=\"text-align: right;\">\n",
       "      <th></th>\n",
       "      <th>Time from Start to Finish (seconds)</th>\n",
       "      <th>Q1</th>\n",
       "      <th>Q2</th>\n",
       "      <th>Q3</th>\n",
       "      <th>Q4</th>\n",
       "      <th>Q5</th>\n",
       "      <th>Q6</th>\n",
       "      <th>Q7_Part_1</th>\n",
       "      <th>Q7_Part_2</th>\n",
       "      <th>Q7_Part_3</th>\n",
       "      <th>...</th>\n",
       "      <th>Q38_B_Part_3</th>\n",
       "      <th>Q38_B_Part_4</th>\n",
       "      <th>Q38_B_Part_5</th>\n",
       "      <th>Q38_B_Part_6</th>\n",
       "      <th>Q38_B_Part_7</th>\n",
       "      <th>Q38_B_Part_8</th>\n",
       "      <th>Q38_B_Part_9</th>\n",
       "      <th>Q38_B_Part_10</th>\n",
       "      <th>Q38_B_Part_11</th>\n",
       "      <th>Q38_B_OTHER</th>\n",
       "    </tr>\n",
       "  </thead>\n",
       "  <tbody>\n",
       "    <tr>\n",
       "      <th>1</th>\n",
       "      <td>910</td>\n",
       "      <td>50-54</td>\n",
       "      <td>Man</td>\n",
       "      <td>India</td>\n",
       "      <td>Bachelor’s degree</td>\n",
       "      <td>Other</td>\n",
       "      <td>5-10 years</td>\n",
       "      <td>Python</td>\n",
       "      <td>R</td>\n",
       "      <td>NaN</td>\n",
       "      <td>...</td>\n",
       "      <td>NaN</td>\n",
       "      <td>NaN</td>\n",
       "      <td>NaN</td>\n",
       "      <td>NaN</td>\n",
       "      <td>NaN</td>\n",
       "      <td>NaN</td>\n",
       "      <td>NaN</td>\n",
       "      <td>NaN</td>\n",
       "      <td>NaN</td>\n",
       "      <td>NaN</td>\n",
       "    </tr>\n",
       "    <tr>\n",
       "      <th>2</th>\n",
       "      <td>784</td>\n",
       "      <td>50-54</td>\n",
       "      <td>Man</td>\n",
       "      <td>Indonesia</td>\n",
       "      <td>Master’s degree</td>\n",
       "      <td>Program/Project Manager</td>\n",
       "      <td>20+ years</td>\n",
       "      <td>NaN</td>\n",
       "      <td>NaN</td>\n",
       "      <td>SQL</td>\n",
       "      <td>...</td>\n",
       "      <td>NaN</td>\n",
       "      <td>NaN</td>\n",
       "      <td>NaN</td>\n",
       "      <td>NaN</td>\n",
       "      <td>NaN</td>\n",
       "      <td>NaN</td>\n",
       "      <td>NaN</td>\n",
       "      <td>NaN</td>\n",
       "      <td>None</td>\n",
       "      <td>NaN</td>\n",
       "    </tr>\n",
       "    <tr>\n",
       "      <th>3</th>\n",
       "      <td>924</td>\n",
       "      <td>22-24</td>\n",
       "      <td>Man</td>\n",
       "      <td>Pakistan</td>\n",
       "      <td>Master’s degree</td>\n",
       "      <td>Software Engineer</td>\n",
       "      <td>1-3 years</td>\n",
       "      <td>Python</td>\n",
       "      <td>NaN</td>\n",
       "      <td>NaN</td>\n",
       "      <td>...</td>\n",
       "      <td>NaN</td>\n",
       "      <td>NaN</td>\n",
       "      <td>TensorBoard</td>\n",
       "      <td>NaN</td>\n",
       "      <td>NaN</td>\n",
       "      <td>NaN</td>\n",
       "      <td>NaN</td>\n",
       "      <td>NaN</td>\n",
       "      <td>NaN</td>\n",
       "      <td>NaN</td>\n",
       "    </tr>\n",
       "    <tr>\n",
       "      <th>4</th>\n",
       "      <td>575</td>\n",
       "      <td>45-49</td>\n",
       "      <td>Man</td>\n",
       "      <td>Mexico</td>\n",
       "      <td>Doctoral degree</td>\n",
       "      <td>Research Scientist</td>\n",
       "      <td>20+ years</td>\n",
       "      <td>Python</td>\n",
       "      <td>NaN</td>\n",
       "      <td>NaN</td>\n",
       "      <td>...</td>\n",
       "      <td>NaN</td>\n",
       "      <td>NaN</td>\n",
       "      <td>NaN</td>\n",
       "      <td>NaN</td>\n",
       "      <td>NaN</td>\n",
       "      <td>NaN</td>\n",
       "      <td>NaN</td>\n",
       "      <td>NaN</td>\n",
       "      <td>None</td>\n",
       "      <td>NaN</td>\n",
       "    </tr>\n",
       "    <tr>\n",
       "      <th>5</th>\n",
       "      <td>781</td>\n",
       "      <td>45-49</td>\n",
       "      <td>Man</td>\n",
       "      <td>India</td>\n",
       "      <td>Doctoral degree</td>\n",
       "      <td>Other</td>\n",
       "      <td>&lt; 1 years</td>\n",
       "      <td>Python</td>\n",
       "      <td>NaN</td>\n",
       "      <td>NaN</td>\n",
       "      <td>...</td>\n",
       "      <td>NaN</td>\n",
       "      <td>NaN</td>\n",
       "      <td>NaN</td>\n",
       "      <td>NaN</td>\n",
       "      <td>NaN</td>\n",
       "      <td>NaN</td>\n",
       "      <td>NaN</td>\n",
       "      <td>NaN</td>\n",
       "      <td>NaN</td>\n",
       "      <td>NaN</td>\n",
       "    </tr>\n",
       "    <tr>\n",
       "      <th>...</th>\n",
       "      <td>...</td>\n",
       "      <td>...</td>\n",
       "      <td>...</td>\n",
       "      <td>...</td>\n",
       "      <td>...</td>\n",
       "      <td>...</td>\n",
       "      <td>...</td>\n",
       "      <td>...</td>\n",
       "      <td>...</td>\n",
       "      <td>...</td>\n",
       "      <td>...</td>\n",
       "      <td>...</td>\n",
       "      <td>...</td>\n",
       "      <td>...</td>\n",
       "      <td>...</td>\n",
       "      <td>...</td>\n",
       "      <td>...</td>\n",
       "      <td>...</td>\n",
       "      <td>...</td>\n",
       "      <td>...</td>\n",
       "      <td>...</td>\n",
       "    </tr>\n",
       "    <tr>\n",
       "      <th>25967</th>\n",
       "      <td>323</td>\n",
       "      <td>30-34</td>\n",
       "      <td>Man</td>\n",
       "      <td>India</td>\n",
       "      <td>Bachelor’s degree</td>\n",
       "      <td>Data Analyst</td>\n",
       "      <td>1-3 years</td>\n",
       "      <td>Python</td>\n",
       "      <td>NaN</td>\n",
       "      <td>NaN</td>\n",
       "      <td>...</td>\n",
       "      <td>NaN</td>\n",
       "      <td>NaN</td>\n",
       "      <td>NaN</td>\n",
       "      <td>NaN</td>\n",
       "      <td>NaN</td>\n",
       "      <td>NaN</td>\n",
       "      <td>NaN</td>\n",
       "      <td>NaN</td>\n",
       "      <td>NaN</td>\n",
       "      <td>NaN</td>\n",
       "    </tr>\n",
       "    <tr>\n",
       "      <th>25968</th>\n",
       "      <td>910</td>\n",
       "      <td>35-39</td>\n",
       "      <td>Man</td>\n",
       "      <td>South Korea</td>\n",
       "      <td>Bachelor’s degree</td>\n",
       "      <td>Software Engineer</td>\n",
       "      <td>5-10 years</td>\n",
       "      <td>Python</td>\n",
       "      <td>NaN</td>\n",
       "      <td>SQL</td>\n",
       "      <td>...</td>\n",
       "      <td>NaN</td>\n",
       "      <td>NaN</td>\n",
       "      <td>NaN</td>\n",
       "      <td>NaN</td>\n",
       "      <td>NaN</td>\n",
       "      <td>NaN</td>\n",
       "      <td>NaN</td>\n",
       "      <td>NaN</td>\n",
       "      <td>NaN</td>\n",
       "      <td>NaN</td>\n",
       "    </tr>\n",
       "    <tr>\n",
       "      <th>25969</th>\n",
       "      <td>1756</td>\n",
       "      <td>30-34</td>\n",
       "      <td>Man</td>\n",
       "      <td>Egypt</td>\n",
       "      <td>Bachelor’s degree</td>\n",
       "      <td>Data Analyst</td>\n",
       "      <td>1-3 years</td>\n",
       "      <td>Python</td>\n",
       "      <td>NaN</td>\n",
       "      <td>SQL</td>\n",
       "      <td>...</td>\n",
       "      <td>NaN</td>\n",
       "      <td>NaN</td>\n",
       "      <td>NaN</td>\n",
       "      <td>NaN</td>\n",
       "      <td>NaN</td>\n",
       "      <td>NaN</td>\n",
       "      <td>NaN</td>\n",
       "      <td>NaN</td>\n",
       "      <td>NaN</td>\n",
       "      <td>NaN</td>\n",
       "    </tr>\n",
       "    <tr>\n",
       "      <th>25971</th>\n",
       "      <td>494</td>\n",
       "      <td>50-54</td>\n",
       "      <td>Man</td>\n",
       "      <td>Sweden</td>\n",
       "      <td>Doctoral degree</td>\n",
       "      <td>Research Scientist</td>\n",
       "      <td>I have never written code</td>\n",
       "      <td>NaN</td>\n",
       "      <td>NaN</td>\n",
       "      <td>NaN</td>\n",
       "      <td>...</td>\n",
       "      <td>NaN</td>\n",
       "      <td>NaN</td>\n",
       "      <td>NaN</td>\n",
       "      <td>NaN</td>\n",
       "      <td>NaN</td>\n",
       "      <td>NaN</td>\n",
       "      <td>NaN</td>\n",
       "      <td>NaN</td>\n",
       "      <td>None</td>\n",
       "      <td>NaN</td>\n",
       "    </tr>\n",
       "    <tr>\n",
       "      <th>25973</th>\n",
       "      <td>255</td>\n",
       "      <td>18-21</td>\n",
       "      <td>Man</td>\n",
       "      <td>India</td>\n",
       "      <td>Bachelor’s degree</td>\n",
       "      <td>Business Analyst</td>\n",
       "      <td>I have never written code</td>\n",
       "      <td>NaN</td>\n",
       "      <td>NaN</td>\n",
       "      <td>NaN</td>\n",
       "      <td>...</td>\n",
       "      <td>NaN</td>\n",
       "      <td>NaN</td>\n",
       "      <td>NaN</td>\n",
       "      <td>NaN</td>\n",
       "      <td>NaN</td>\n",
       "      <td>NaN</td>\n",
       "      <td>NaN</td>\n",
       "      <td>NaN</td>\n",
       "      <td>None</td>\n",
       "      <td>NaN</td>\n",
       "    </tr>\n",
       "  </tbody>\n",
       "</table>\n",
       "<p>15391 rows × 369 columns</p>\n",
       "</div>"
      ],
      "text/plain": [
       "      Time from Start to Finish (seconds)     Q1   Q2           Q3  \\\n",
       "1                                     910  50-54  Man        India   \n",
       "2                                     784  50-54  Man    Indonesia   \n",
       "3                                     924  22-24  Man     Pakistan   \n",
       "4                                     575  45-49  Man       Mexico   \n",
       "5                                     781  45-49  Man        India   \n",
       "...                                   ...    ...  ...          ...   \n",
       "25967                                 323  30-34  Man        India   \n",
       "25968                                 910  35-39  Man  South Korea   \n",
       "25969                                1756  30-34  Man        Egypt   \n",
       "25971                                 494  50-54  Man       Sweden   \n",
       "25973                                 255  18-21  Man        India   \n",
       "\n",
       "                      Q4                       Q5                         Q6  \\\n",
       "1      Bachelor’s degree                    Other                 5-10 years   \n",
       "2        Master’s degree  Program/Project Manager                  20+ years   \n",
       "3        Master’s degree        Software Engineer                  1-3 years   \n",
       "4        Doctoral degree       Research Scientist                  20+ years   \n",
       "5        Doctoral degree                    Other                  < 1 years   \n",
       "...                  ...                      ...                        ...   \n",
       "25967  Bachelor’s degree             Data Analyst                  1-3 years   \n",
       "25968  Bachelor’s degree        Software Engineer                 5-10 years   \n",
       "25969  Bachelor’s degree             Data Analyst                  1-3 years   \n",
       "25971    Doctoral degree       Research Scientist  I have never written code   \n",
       "25973  Bachelor’s degree         Business Analyst  I have never written code   \n",
       "\n",
       "      Q7_Part_1 Q7_Part_2 Q7_Part_3  ... Q38_B_Part_3 Q38_B_Part_4  \\\n",
       "1        Python         R       NaN  ...          NaN          NaN   \n",
       "2           NaN       NaN       SQL  ...          NaN          NaN   \n",
       "3        Python       NaN       NaN  ...          NaN          NaN   \n",
       "4        Python       NaN       NaN  ...          NaN          NaN   \n",
       "5        Python       NaN       NaN  ...          NaN          NaN   \n",
       "...         ...       ...       ...  ...          ...          ...   \n",
       "25967    Python       NaN       NaN  ...          NaN          NaN   \n",
       "25968    Python       NaN       SQL  ...          NaN          NaN   \n",
       "25969    Python       NaN       SQL  ...          NaN          NaN   \n",
       "25971       NaN       NaN       NaN  ...          NaN          NaN   \n",
       "25973       NaN       NaN       NaN  ...          NaN          NaN   \n",
       "\n",
       "        Q38_B_Part_5 Q38_B_Part_6 Q38_B_Part_7 Q38_B_Part_8 Q38_B_Part_9  \\\n",
       "1                NaN          NaN          NaN          NaN          NaN   \n",
       "2                NaN          NaN          NaN          NaN          NaN   \n",
       "3       TensorBoard           NaN          NaN          NaN          NaN   \n",
       "4                NaN          NaN          NaN          NaN          NaN   \n",
       "5                NaN          NaN          NaN          NaN          NaN   \n",
       "...              ...          ...          ...          ...          ...   \n",
       "25967            NaN          NaN          NaN          NaN          NaN   \n",
       "25968            NaN          NaN          NaN          NaN          NaN   \n",
       "25969            NaN          NaN          NaN          NaN          NaN   \n",
       "25971            NaN          NaN          NaN          NaN          NaN   \n",
       "25973            NaN          NaN          NaN          NaN          NaN   \n",
       "\n",
       "      Q38_B_Part_10 Q38_B_Part_11 Q38_B_OTHER  \n",
       "1               NaN           NaN         NaN  \n",
       "2               NaN          None         NaN  \n",
       "3               NaN           NaN         NaN  \n",
       "4               NaN          None         NaN  \n",
       "5               NaN           NaN         NaN  \n",
       "...             ...           ...         ...  \n",
       "25967           NaN           NaN         NaN  \n",
       "25968           NaN           NaN         NaN  \n",
       "25969           NaN           NaN         NaN  \n",
       "25971           NaN          None         NaN  \n",
       "25973           NaN          None         NaN  \n",
       "\n",
       "[15391 rows x 369 columns]"
      ]
     },
     "execution_count": 88,
     "metadata": {},
     "output_type": "execute_result"
    }
   ],
   "source": [
    "df = df[df['Q25'].notnull()]\n",
    "df = df[df['Q25'] != 'I do not wish to disclose my approximate yearly compensation']\n",
    "df"
   ]
  },
  {
   "cell_type": "code",
   "execution_count": 89,
   "metadata": {
    "scrolled": true
   },
   "outputs": [
    {
     "name": "stdout",
     "output_type": "stream",
     "text": [
      "['25,000-29,999' '60,000-69,999' '$0-999' '30,000-39,999' '15,000-19,999'\n",
      " '70,000-79,999' '2,000-2,999' '10,000-14,999' '5,000-7,499'\n",
      " '20,000-24,999' '1,000-1,999' '100,000-124,999' '7,500-9,999'\n",
      " '4,000-4,999' '40,000-49,999' '50,000-59,999' '3,000-3,999'\n",
      " '300,000-499,999' '200,000-249,999' '125,000-149,999' '250,000-299,999'\n",
      " '80,000-89,999' '90,000-99,999' '150,000-199,999' '>$1,000,000'\n",
      " '$500,000-999,999']\n"
     ]
    }
   ],
   "source": [
    "print(df['Q25'].unique())"
   ]
  },
  {
   "cell_type": "code",
   "execution_count": 90,
   "metadata": {
    "scrolled": true
   },
   "outputs": [],
   "source": [
    "dic = {'$0-999': 500, '1,000-1,999': 1500, '2,000-2,999': 2500, '3,000-3,999': 3500, \n",
    "       '4,000-4,999': 4500, '5,000-7,499': 6250, '7,500-9,999': 8750, '10,000-14,999': 12500, \n",
    "       '15,000-19,999': 17500, '20,000-24,999': 22500, '25,000-29,999': 27500, \n",
    "       '30,000-39,999': 35000, '40,000-49,999': 45000, '50,000-59,999': 55000, \n",
    "       '60,000-69,999': 65000, '70,000-79,999': 75000, '80,000-89,999': 85000, '90,000-99,999': 95000,\n",
    "       '100,000-124,999': 112500, '125,000-149,999': 137500, '150,000-199,999': 175000, \n",
    "       '200,000-249,999': 225000, '250,000-299,999': 275000, '300,000-499,999': 400000,\n",
    "       '$500,000-999,999': 750000, '>$1,000,000': 1000000}\n",
    "\n",
    "df['target'] = df['Q25'].apply(lambda x: dic[x])"
   ]
  },
  {
   "cell_type": "code",
   "execution_count": 91,
   "metadata": {
    "scrolled": true
   },
   "outputs": [
    {
     "name": "stdout",
     "output_type": "stream",
     "text": [
      "What is your age (# years)?\n",
      "What is your gender? - Selected Choice\n",
      "In which country do you currently reside?\n",
      "What is the highest level of formal education that you have attained or plan to attain within the next 2 years?\n",
      "Select the title most similar to your current role (or most recent title if retired): - Selected Choice\n",
      "For how many years have you been writing code and/or programming?\n",
      "In what industry is your current employer/contract (or your most recent employer if retired)? - Selected Choice\n"
     ]
    }
   ],
   "source": [
    "print(question_names['Q1'])\n",
    "print(question_names['Q2'])\n",
    "print(question_names['Q3'])\n",
    "print(question_names['Q4'])\n",
    "print(question_names['Q5'])\n",
    "print(question_names['Q6'])\n",
    "print(question_names['Q20'])"
   ]
  },
  {
   "cell_type": "code",
   "execution_count": 92,
   "metadata": {
    "scrolled": true
   },
   "outputs": [
    {
     "data": {
      "text/html": [
       "<div>\n",
       "<style scoped>\n",
       "    .dataframe tbody tr th:only-of-type {\n",
       "        vertical-align: middle;\n",
       "    }\n",
       "\n",
       "    .dataframe tbody tr th {\n",
       "        vertical-align: top;\n",
       "    }\n",
       "\n",
       "    .dataframe thead th {\n",
       "        text-align: right;\n",
       "    }\n",
       "</style>\n",
       "<table border=\"1\" class=\"dataframe\">\n",
       "  <thead>\n",
       "    <tr style=\"text-align: right;\">\n",
       "      <th></th>\n",
       "      <th>Q1</th>\n",
       "      <th>Q2</th>\n",
       "      <th>Q3</th>\n",
       "      <th>Q4</th>\n",
       "      <th>Q5</th>\n",
       "      <th>Q6</th>\n",
       "      <th>Q20</th>\n",
       "      <th>target</th>\n",
       "    </tr>\n",
       "  </thead>\n",
       "  <tbody>\n",
       "    <tr>\n",
       "      <th>1</th>\n",
       "      <td>50-54</td>\n",
       "      <td>Man</td>\n",
       "      <td>India</td>\n",
       "      <td>Bachelor’s degree</td>\n",
       "      <td>Other</td>\n",
       "      <td>5-10 years</td>\n",
       "      <td>Manufacturing/Fabrication</td>\n",
       "      <td>27500</td>\n",
       "    </tr>\n",
       "    <tr>\n",
       "      <th>2</th>\n",
       "      <td>50-54</td>\n",
       "      <td>Man</td>\n",
       "      <td>Indonesia</td>\n",
       "      <td>Master’s degree</td>\n",
       "      <td>Program/Project Manager</td>\n",
       "      <td>20+ years</td>\n",
       "      <td>Manufacturing/Fabrication</td>\n",
       "      <td>65000</td>\n",
       "    </tr>\n",
       "    <tr>\n",
       "      <th>3</th>\n",
       "      <td>22-24</td>\n",
       "      <td>Man</td>\n",
       "      <td>Pakistan</td>\n",
       "      <td>Master’s degree</td>\n",
       "      <td>Software Engineer</td>\n",
       "      <td>1-3 years</td>\n",
       "      <td>Academics/Education</td>\n",
       "      <td>500</td>\n",
       "    </tr>\n",
       "    <tr>\n",
       "      <th>4</th>\n",
       "      <td>45-49</td>\n",
       "      <td>Man</td>\n",
       "      <td>Mexico</td>\n",
       "      <td>Doctoral degree</td>\n",
       "      <td>Research Scientist</td>\n",
       "      <td>20+ years</td>\n",
       "      <td>Academics/Education</td>\n",
       "      <td>35000</td>\n",
       "    </tr>\n",
       "    <tr>\n",
       "      <th>5</th>\n",
       "      <td>45-49</td>\n",
       "      <td>Man</td>\n",
       "      <td>India</td>\n",
       "      <td>Doctoral degree</td>\n",
       "      <td>Other</td>\n",
       "      <td>&lt; 1 years</td>\n",
       "      <td>Academics/Education</td>\n",
       "      <td>35000</td>\n",
       "    </tr>\n",
       "  </tbody>\n",
       "</table>\n",
       "</div>"
      ],
      "text/plain": [
       "      Q1   Q2         Q3                 Q4                       Q5  \\\n",
       "1  50-54  Man      India  Bachelor’s degree                    Other   \n",
       "2  50-54  Man  Indonesia    Master’s degree  Program/Project Manager   \n",
       "3  22-24  Man   Pakistan    Master’s degree        Software Engineer   \n",
       "4  45-49  Man     Mexico    Doctoral degree       Research Scientist   \n",
       "5  45-49  Man      India    Doctoral degree                    Other   \n",
       "\n",
       "           Q6                        Q20  target  \n",
       "1  5-10 years  Manufacturing/Fabrication   27500  \n",
       "2   20+ years  Manufacturing/Fabrication   65000  \n",
       "3   1-3 years        Academics/Education     500  \n",
       "4   20+ years        Academics/Education   35000  \n",
       "5   < 1 years        Academics/Education   35000  "
      ]
     },
     "execution_count": 92,
     "metadata": {},
     "output_type": "execute_result"
    }
   ],
   "source": [
    "features = [\"Q1\", \"Q2\", \"Q3\", \"Q4\", \"Q5\", \"Q6\", \"Q20\"]\n",
    "target = [\"target\"]\n",
    "\n",
    "df = df[features + target]\n",
    "\n",
    "df = df.fillna('?')\n",
    "df.head()"
   ]
  },
  {
   "cell_type": "code",
   "execution_count": 93,
   "metadata": {
    "scrolled": true
   },
   "outputs": [],
   "source": [
    "dic_age = {'30-34': 32, '22-24': 23, '35-39': 37, '18-21': 20, '40-44': 42, '25-29': 27, '55-59': 57, '60-69': 64, '45-49': 47, '50-54': 52, '70+': 75}\n",
    "df['Q1'] = df['Q1'].apply(lambda x: dic_age[x])"
   ]
  },
  {
   "cell_type": "code",
   "execution_count": 94,
   "metadata": {
    "scrolled": true
   },
   "outputs": [],
   "source": [
    "dic_exp = {'< 1 years': 0.5, '1-3 years': 2, '3-5 years': 4, '5-10 years': 7.5, '10-20 years': 15, '20+ years': 22, 'I have never written code': 0}\n",
    "df['Q6'] = df['Q6'].apply(lambda x: dic_exp[x])"
   ]
  },
  {
   "cell_type": "code",
   "execution_count": 95,
   "metadata": {
    "scrolled": true
   },
   "outputs": [],
   "source": [
    "for q in [\"Q2\", \"Q3\", \"Q4\", \"Q5\", \"Q20\"]:\n",
    "    df[q] = df[q].astype('category')\n",
    "    \n",
    "cat_columns = df.select_dtypes(['category']).columns\n",
    "df[cat_columns] = df[cat_columns].apply(lambda x: x.cat.codes)"
   ]
  },
  {
   "cell_type": "code",
   "execution_count": 96,
   "metadata": {
    "scrolled": true
   },
   "outputs": [],
   "source": [
    "df = df.rename(index=str, columns={\"Q1\": 'Age', \"Q2\": 'Gender', \"Q3\": 'Country of Residence', \"Q4\": 'Education Level', \"Q5\": 'Job Title', \"Q6\": 'Programming Experience', \"Q20\": 'Industry'})"
   ]
  },
  {
   "cell_type": "code",
   "execution_count": 97,
   "metadata": {
    "scrolled": true
   },
   "outputs": [],
   "source": [
    "classes = ['less than 10k', 'between 10k and 30k', 'between 30k and 50k', 'between 50k and 80k', 'between 80k and 100k', 'between 100k and 500k', 'more than 500k']"
   ]
  },
  {
   "cell_type": "code",
   "execution_count": 98,
   "metadata": {
    "scrolled": true
   },
   "outputs": [
    {
     "name": "stdout",
     "output_type": "stream",
     "text": [
      "[  27500   65000     500   35000   17500   75000    2500   12500    6250\n",
      "   22500    1500  112500    8750    4500   45000   55000    3500  400000\n",
      "  225000  137500  275000   85000   95000  175000 1000000  750000]\n"
     ]
    }
   ],
   "source": [
    "print(df['target'].unique())"
   ]
  },
  {
   "cell_type": "code",
   "execution_count": 99,
   "metadata": {
    "scrolled": true
   },
   "outputs": [],
   "source": [
    "dic_target = {500: 0, 1500: 0, 2500: 0, 3500: 0, 4500: 0, 6250: 0, 8750: 0, \n",
    "              12500: 1, 17500: 1, 22500: 1, 27500: 1,\n",
    "              35000: 2, 45000: 2, \n",
    "              55000: 3,  65000: 3,  75000: 3,\n",
    "              85000: 4, 95000: 4, \n",
    "              112500: 5, 137500: 5, 175000: 5, 225000: 5, 275000: 5, 400000: 5, \n",
    "              750000: 6,  1000000: 6\n",
    "             }\n",
    "\n",
    "df['target'] = df['target'].apply(lambda x: dic_target[x])"
   ]
  },
  {
   "cell_type": "code",
   "execution_count": 100,
   "metadata": {},
   "outputs": [
    {
     "data": {
      "text/html": [
       "<div>\n",
       "<style scoped>\n",
       "    .dataframe tbody tr th:only-of-type {\n",
       "        vertical-align: middle;\n",
       "    }\n",
       "\n",
       "    .dataframe tbody tr th {\n",
       "        vertical-align: top;\n",
       "    }\n",
       "\n",
       "    .dataframe thead th {\n",
       "        text-align: right;\n",
       "    }\n",
       "</style>\n",
       "<table border=\"1\" class=\"dataframe\">\n",
       "  <thead>\n",
       "    <tr style=\"text-align: right;\">\n",
       "      <th></th>\n",
       "      <th>Age</th>\n",
       "      <th>Gender</th>\n",
       "      <th>Country of Residence</th>\n",
       "      <th>Education Level</th>\n",
       "      <th>Job Title</th>\n",
       "      <th>Programming Experience</th>\n",
       "      <th>Industry</th>\n",
       "      <th>target</th>\n",
       "    </tr>\n",
       "  </thead>\n",
       "  <tbody>\n",
       "    <tr>\n",
       "      <th>1</th>\n",
       "      <td>52</td>\n",
       "      <td>0</td>\n",
       "      <td>23</td>\n",
       "      <td>0</td>\n",
       "      <td>7</td>\n",
       "      <td>7.5</td>\n",
       "      <td>8</td>\n",
       "      <td>1</td>\n",
       "    </tr>\n",
       "    <tr>\n",
       "      <th>2</th>\n",
       "      <td>52</td>\n",
       "      <td>0</td>\n",
       "      <td>24</td>\n",
       "      <td>3</td>\n",
       "      <td>9</td>\n",
       "      <td>22.0</td>\n",
       "      <td>8</td>\n",
       "      <td>3</td>\n",
       "    </tr>\n",
       "    <tr>\n",
       "      <th>3</th>\n",
       "      <td>23</td>\n",
       "      <td>0</td>\n",
       "      <td>41</td>\n",
       "      <td>3</td>\n",
       "      <td>11</td>\n",
       "      <td>2.0</td>\n",
       "      <td>0</td>\n",
       "      <td>0</td>\n",
       "    </tr>\n",
       "    <tr>\n",
       "      <th>4</th>\n",
       "      <td>47</td>\n",
       "      <td>0</td>\n",
       "      <td>34</td>\n",
       "      <td>1</td>\n",
       "      <td>10</td>\n",
       "      <td>22.0</td>\n",
       "      <td>0</td>\n",
       "      <td>2</td>\n",
       "    </tr>\n",
       "    <tr>\n",
       "      <th>5</th>\n",
       "      <td>47</td>\n",
       "      <td>0</td>\n",
       "      <td>23</td>\n",
       "      <td>1</td>\n",
       "      <td>7</td>\n",
       "      <td>0.5</td>\n",
       "      <td>0</td>\n",
       "      <td>2</td>\n",
       "    </tr>\n",
       "    <tr>\n",
       "      <th>...</th>\n",
       "      <td>...</td>\n",
       "      <td>...</td>\n",
       "      <td>...</td>\n",
       "      <td>...</td>\n",
       "      <td>...</td>\n",
       "      <td>...</td>\n",
       "      <td>...</td>\n",
       "      <td>...</td>\n",
       "    </tr>\n",
       "    <tr>\n",
       "      <th>25967</th>\n",
       "      <td>32</td>\n",
       "      <td>0</td>\n",
       "      <td>23</td>\n",
       "      <td>0</td>\n",
       "      <td>2</td>\n",
       "      <td>2.0</td>\n",
       "      <td>8</td>\n",
       "      <td>0</td>\n",
       "    </tr>\n",
       "    <tr>\n",
       "      <th>25968</th>\n",
       "      <td>37</td>\n",
       "      <td>0</td>\n",
       "      <td>51</td>\n",
       "      <td>0</td>\n",
       "      <td>11</td>\n",
       "      <td>7.5</td>\n",
       "      <td>3</td>\n",
       "      <td>4</td>\n",
       "    </tr>\n",
       "    <tr>\n",
       "      <th>25969</th>\n",
       "      <td>32</td>\n",
       "      <td>0</td>\n",
       "      <td>15</td>\n",
       "      <td>0</td>\n",
       "      <td>2</td>\n",
       "      <td>2.0</td>\n",
       "      <td>3</td>\n",
       "      <td>1</td>\n",
       "    </tr>\n",
       "    <tr>\n",
       "      <th>25971</th>\n",
       "      <td>52</td>\n",
       "      <td>0</td>\n",
       "      <td>54</td>\n",
       "      <td>1</td>\n",
       "      <td>10</td>\n",
       "      <td>0.0</td>\n",
       "      <td>0</td>\n",
       "      <td>0</td>\n",
       "    </tr>\n",
       "    <tr>\n",
       "      <th>25973</th>\n",
       "      <td>20</td>\n",
       "      <td>0</td>\n",
       "      <td>23</td>\n",
       "      <td>0</td>\n",
       "      <td>0</td>\n",
       "      <td>0.0</td>\n",
       "      <td>15</td>\n",
       "      <td>0</td>\n",
       "    </tr>\n",
       "  </tbody>\n",
       "</table>\n",
       "<p>15391 rows × 8 columns</p>\n",
       "</div>"
      ],
      "text/plain": [
       "       Age  Gender  Country of Residence  Education Level  Job Title  \\\n",
       "1       52       0                    23                0          7   \n",
       "2       52       0                    24                3          9   \n",
       "3       23       0                    41                3         11   \n",
       "4       47       0                    34                1         10   \n",
       "5       47       0                    23                1          7   \n",
       "...    ...     ...                   ...              ...        ...   \n",
       "25967   32       0                    23                0          2   \n",
       "25968   37       0                    51                0         11   \n",
       "25969   32       0                    15                0          2   \n",
       "25971   52       0                    54                1         10   \n",
       "25973   20       0                    23                0          0   \n",
       "\n",
       "       Programming Experience  Industry  target  \n",
       "1                         7.5         8       1  \n",
       "2                        22.0         8       3  \n",
       "3                         2.0         0       0  \n",
       "4                        22.0         0       2  \n",
       "5                         0.5         0       2  \n",
       "...                       ...       ...     ...  \n",
       "25967                     2.0         8       0  \n",
       "25968                     7.5         3       4  \n",
       "25969                     2.0         3       1  \n",
       "25971                     0.0         0       0  \n",
       "25973                     0.0        15       0  \n",
       "\n",
       "[15391 rows x 8 columns]"
      ]
     },
     "execution_count": 100,
     "metadata": {},
     "output_type": "execute_result"
    }
   ],
   "source": [
    "df"
   ]
  },
  {
   "cell_type": "code",
   "execution_count": 101,
   "metadata": {
    "scrolled": true
   },
   "outputs": [],
   "source": [
    "features = ['Age', 'Gender', 'Country of Residence', 'Education Level', 'Job Title', 'Programming Experience', 'Industry']\n",
    "target =['target']"
   ]
  },
  {
   "cell_type": "code",
   "execution_count": 102,
   "metadata": {
    "scrolled": true
   },
   "outputs": [],
   "source": [
    "X = df[features]\n",
    "y = df[target]"
   ]
  },
  {
   "cell_type": "code",
   "execution_count": 103,
   "metadata": {
    "scrolled": true
   },
   "outputs": [],
   "source": [
    "X_train, X_test, y_train, y_test = train_test_split(X, y, test_size = 0.30, random_state = 42)"
   ]
  },
  {
   "cell_type": "code",
   "execution_count": 104,
   "metadata": {},
   "outputs": [
    {
     "name": "stderr",
     "output_type": "stream",
     "text": [
      "C:\\Users\\annak\\Anaconda3\\lib\\site-packages\\sklearn\\utils\\validation.py:73: DataConversionWarning: A column-vector y was passed when a 1d array was expected. Please change the shape of y to (n_samples, ), for example using ravel().\n",
      "  return f(**kwargs)\n"
     ]
    },
    {
     "data": {
      "text/plain": [
       "LGBMClassifier(n_estimators=50, num_leaves=30, random_state=42)"
      ]
     },
     "execution_count": 104,
     "metadata": {},
     "output_type": "execute_result"
    }
   ],
   "source": [
    "clf = lgb.LGBMClassifier(random_state=42, n_estimators=50, num_leaves=30, learning_rate=0.1)\n",
    "clf.fit(X_train, y_train)"
   ]
  },
  {
   "cell_type": "code",
   "execution_count": 105,
   "metadata": {},
   "outputs": [],
   "source": [
    "y_pred=clf.predict(X_test)"
   ]
  },
  {
   "cell_type": "code",
   "execution_count": 106,
   "metadata": {},
   "outputs": [
    {
     "name": "stdout",
     "output_type": "stream",
     "text": [
      "0.5456907752273712\n"
     ]
    }
   ],
   "source": [
    "accuracy=accuracy_score(y_test, y_pred)\n",
    "print(accuracy_score(y_test, y_pred))"
   ]
  },
  {
   "cell_type": "code",
   "execution_count": 107,
   "metadata": {},
   "outputs": [
    {
     "name": "stdout",
     "output_type": "stream",
     "text": [
      "0.6515362480274761\n"
     ]
    }
   ],
   "source": [
    "y_pred_train = clf.predict(X_train)\n",
    "print(accuracy_score(y_train, y_pred_train))"
   ]
  },
  {
   "cell_type": "code",
   "execution_count": 108,
   "metadata": {},
   "outputs": [
    {
     "name": "stdout",
     "output_type": "stream",
     "text": [
      "Training set score: 0.6515\n",
      "Test set score: 0.5457\n"
     ]
    }
   ],
   "source": [
    "print('Training set score: {:.4f}'.format(clf.score(X_train, y_train)))\n",
    "print('Test set score: {:.4f}'.format(clf.score(X_test, y_test)))"
   ]
  },
  {
   "cell_type": "code",
   "execution_count": 109,
   "metadata": {},
   "outputs": [
    {
     "data": {
      "image/png": "[encoded data removed]",
      "text/plain": [
       "<Figure size 864x720 with 1 Axes>"
      ]
     },
     "metadata": {},
     "output_type": "display_data"
    }
   ],
   "source": [
    "fig, ax = plt.subplots(figsize=(12,10))\n",
    "lgb.plot_importance(clf, importance_type='split', max_num_features=50, height=0.8, ax=ax)\n",
    "ax.grid(False)\n",
    "plt.ylabel('Feature', size=12)\n",
    "plt.xlabel('Importance', size=12)\n",
    "plt.title(\"Light Gradient Boosting Machine: Feature Importance for Salary Determination\", fontsize=15)\n",
    "plt.show()"
   ]
  },
  {
   "cell_type": "code",
   "execution_count": 110,
   "metadata": {},
   "outputs": [
    {
     "name": "stdout",
     "output_type": "stream",
     "text": [
      "Confusion matrix\n",
      "\n",
      " [[1792  124   22   68    6   60    0]\n",
      " [ 531  160   27   28    2   20    0]\n",
      " [ 196   75   48   73    3   21    0]\n",
      " [ 188   61   41  140   19   78    0]\n",
      " [  42   14   18   59    9   73    0]\n",
      " [ 103   26   14   71    8  371    2]\n",
      " [  11    2    0    2    0   10    0]]\n"
     ]
    }
   ],
   "source": [
    "cm = confusion_matrix(y_test, y_pred)\n",
    "print('Confusion matrix\\n\\n', cm)"
   ]
  },
  {
   "cell_type": "code",
   "execution_count": 111,
   "metadata": {},
   "outputs": [
    {
     "data": {
      "image/png": "[encoded data removed]",
      "text/plain": [
       "<Figure size 720x576 with 2 Axes>"
      ]
     },
     "metadata": {},
     "output_type": "display_data"
    }
   ],
   "source": [
    "from sklearn.metrics import ConfusionMatrixDisplay\n",
    "cm_display = ConfusionMatrixDisplay(cm, display_labels=clf.classes_).plot()\n",
    "plt.grid(False)"
   ]
  },
  {
   "cell_type": "code",
   "execution_count": 112,
   "metadata": {},
   "outputs": [
    {
     "data": {
      "text/plain": [
       "<matplotlib.axes._subplots.AxesSubplot at 0x26157529a00>"
      ]
     },
     "execution_count": 112,
     "metadata": {},
     "output_type": "execute_result"
    },
    {
     "data": {
      "image/png": "[encoded data removed]",
      "text/plain": [
       "<Figure size 720x576 with 2 Axes>"
      ]
     },
     "metadata": {},
     "output_type": "display_data"
    }
   ],
   "source": [
    "sns.set(rc = {'figure.figsize':(10,8)})\n",
    "lgbm_cm = sns.heatmap(cm, annot=True, fmt='g', cmap='Blues', xticklabels=classes, yticklabels=classes)\n",
    "lgbm_cm.set_xlabel(\"Predicted Value\", fontsize = 20)\n",
    "lgbm_cm.set_ylabel(\"True Value\", fontsize = 20)\n",
    "lgbm_cm"
   ]
  },
  {
   "cell_type": "code",
   "execution_count": 113,
   "metadata": {},
   "outputs": [
    {
     "name": "stdout",
     "output_type": "stream",
     "text": [
      "              precision    recall  f1-score   support\n",
      "\n",
      "           0       0.63      0.86      0.73      2072\n",
      "           1       0.35      0.21      0.26       768\n",
      "           2       0.28      0.12      0.16       416\n",
      "           3       0.32      0.27      0.29       527\n",
      "           4       0.19      0.04      0.07       215\n",
      "           5       0.59      0.62      0.60       595\n",
      "           6       0.00      0.00      0.00        25\n",
      "\n",
      "    accuracy                           0.55      4618\n",
      "   macro avg       0.34      0.30      0.30      4618\n",
      "weighted avg       0.48      0.55      0.50      4618\n",
      "\n"
     ]
    }
   ],
   "source": [
    "print(classification_report(y_test, y_pred))"
   ]
  },
  {
   "cell_type": "code",
   "execution_count": 114,
   "metadata": {},
   "outputs": [
    {
     "data": {
      "text/plain": [
       "0.5456907752273712"
      ]
     },
     "execution_count": 114,
     "metadata": {},
     "output_type": "execute_result"
    }
   ],
   "source": [
    "model_LGBM =  accuracy_score(y_test, y_pred)\n",
    "model_LGBM"
   ]
  },
  {
   "cell_type": "code",
   "execution_count": 115,
   "metadata": {},
   "outputs": [
    {
     "data": {
      "text/plain": [
       "\"\\nsubmission = pd.DataFrame({'Resp_ID': X_test.index, 'Salary Class Predicted': y_pred})\\nsubmission.head()\\n\\n\""
      ]
     },
     "execution_count": 115,
     "metadata": {},
     "output_type": "execute_result"
    }
   ],
   "source": [
    "'''\n",
    "submission = pd.DataFrame({'Resp_ID': X_test.index, 'Salary Class Predicted': y_pred})\n",
    "submission.head()\n",
    "\n",
    "'''"
   ]
  },
  {
   "cell_type": "code",
   "execution_count": 116,
   "metadata": {},
   "outputs": [
    {
     "name": "stderr",
     "output_type": "stream",
     "text": [
      "C:\\Users\\annak\\Anaconda3\\lib\\site-packages\\sklearn\\utils\\validation.py:73: DataConversionWarning: A column-vector y was passed when a 1d array was expected. Please change the shape of y to (n_samples, ), for example using ravel().\n",
      "  return f(**kwargs)\n"
     ]
    },
    {
     "data": {
      "text/plain": [
       "array([0.54617169, 0.55406032, 0.53549884, 0.55571031, 0.55803157])"
      ]
     },
     "execution_count": 116,
     "metadata": {},
     "output_type": "execute_result"
    }
   ],
   "source": [
    "from sklearn.model_selection import cross_val_score\n",
    "cv_scores = cross_val_score(clf, X_train, y_train, cv=5)\n",
    "cv_scores"
   ]
  },
  {
   "cell_type": "code",
   "execution_count": 117,
   "metadata": {},
   "outputs": [
    {
     "name": "stdout",
     "output_type": "stream",
     "text": [
      "Fitting 3 folds for each of 30 candidates, totalling 90 fits\n"
     ]
    },
    {
     "name": "stderr",
     "output_type": "stream",
     "text": [
      "[Parallel(n_jobs=4)]: Using backend LokyBackend with 4 concurrent workers.\n",
      "[Parallel(n_jobs=4)]: Done  42 tasks      | elapsed:   26.8s\n",
      "[Parallel(n_jobs=4)]: Done  90 out of  90 | elapsed:  1.4min finished\n",
      "C:\\Users\\annak\\Anaconda3\\lib\\site-packages\\sklearn\\model_selection\\_search.py:847: FutureWarning: The parameter 'iid' is deprecated in 0.22 and will be removed in 0.24.\n",
      "  warnings.warn(\n"
     ]
    },
    {
     "data": {
      "text/plain": [
       "({'n_estimators': 200, 'num_leaves': 10}, 0.545530492898914)"
      ]
     },
     "execution_count": 117,
     "metadata": {},
     "output_type": "execute_result"
    }
   ],
   "source": [
    "params_opt = {'n_estimators':range(200, 600, 80), 'num_leaves':range(10,70,10)}\n",
    "gridSearchCV = GridSearchCV(estimator = clf, \n",
    "    param_grid = params_opt, \n",
    "    scoring='accuracy',\n",
    "    n_jobs=4,\n",
    "    iid=False, \n",
    "    verbose=1,\n",
    "    cv=3)\n",
    "gridSearchCV.fit(X_train, y_train.values.ravel())\n",
    "gridSearchCV.cv_results_\n",
    "gridSearchCV.best_params_, gridSearchCV.best_score_"
   ]
  },
  {
   "cell_type": "code",
   "execution_count": 118,
   "metadata": {},
   "outputs": [
    {
     "name": "stderr",
     "output_type": "stream",
     "text": [
      "C:\\Users\\annak\\Anaconda3\\lib\\site-packages\\sklearn\\utils\\validation.py:73: DataConversionWarning: A column-vector y was passed when a 1d array was expected. Please change the shape of y to (n_samples, ), for example using ravel().\n",
      "  return f(**kwargs)\n"
     ]
    },
    {
     "data": {
      "text/plain": [
       "LGBMClassifier(n_estimators=200, num_leaves=5, random_state=42)"
      ]
     },
     "execution_count": 118,
     "metadata": {},
     "output_type": "execute_result"
    }
   ],
   "source": [
    "lgbm1=lgb.LGBMClassifier(random_state=42, num_leaves=5, n_estimators= 200)\n",
    "lgbm1.fit(X_train, y_train)"
   ]
  },
  {
   "cell_type": "code",
   "execution_count": 119,
   "metadata": {},
   "outputs": [],
   "source": [
    "y_pred=lgbm1.predict(X_test)"
   ]
  },
  {
   "cell_type": "code",
   "execution_count": 120,
   "metadata": {},
   "outputs": [
    {
     "data": {
      "text/plain": [
       "0.5534863577306193"
      ]
     },
     "execution_count": 120,
     "metadata": {},
     "output_type": "execute_result"
    }
   ],
   "source": [
    "model_LGBM_1 = accuracy_score(y_test, y_pred)\n",
    "model_LGBM_1"
   ]
  },
  {
   "cell_type": "code",
   "execution_count": 121,
   "metadata": {
    "scrolled": true
   },
   "outputs": [],
   "source": [
    "from sklearn.preprocessing import StandardScaler\n",
    "from sklearn.model_selection import train_test_split\n",
    "from sklearn import tree\n",
    "from sklearn.ensemble import RandomForestClassifier\n",
    "from sklearn.model_selection import cross_val_score"
   ]
  },
  {
   "cell_type": "code",
   "execution_count": 122,
   "metadata": {
    "scrolled": true
   },
   "outputs": [],
   "source": [
    "X = df[features]\n",
    "y = df[target]"
   ]
  },
  {
   "cell_type": "code",
   "execution_count": 123,
   "metadata": {
    "scrolled": true
   },
   "outputs": [],
   "source": [
    "X_train, X_test, y_train, y_test = train_test_split(X, y, test_size = 0.30, random_state = 42)"
   ]
  },
  {
   "cell_type": "code",
   "execution_count": 124,
   "metadata": {
    "scrolled": true
   },
   "outputs": [],
   "source": [
    "clf = RandomForestClassifier(n_estimators=100, random_state=42)"
   ]
  },
  {
   "cell_type": "code",
   "execution_count": 125,
   "metadata": {
    "scrolled": true
   },
   "outputs": [
    {
     "data": {
      "text/plain": [
       "RandomForestClassifier(random_state=42)"
      ]
     },
     "execution_count": 125,
     "metadata": {},
     "output_type": "execute_result"
    }
   ],
   "source": [
    "clf.fit(X_train, y_train.values.ravel())"
   ]
  },
  {
   "cell_type": "code",
   "execution_count": 126,
   "metadata": {
    "scrolled": true
   },
   "outputs": [],
   "source": [
    "y_pred = clf.predict(X_test)"
   ]
  },
  {
   "cell_type": "code",
   "execution_count": 127,
   "metadata": {
    "scrolled": true
   },
   "outputs": [
    {
     "name": "stdout",
     "output_type": "stream",
     "text": [
      "Accuracy: 0.49480294499783456\n"
     ]
    }
   ],
   "source": [
    "print(\"Accuracy:\", accuracy_score(y_test, y_pred))"
   ]
  },
  {
   "cell_type": "code",
   "execution_count": 128,
   "metadata": {
    "scrolled": true
   },
   "outputs": [
    {
     "data": {
      "text/plain": [
       "0.49480294499783456"
      ]
     },
     "execution_count": 128,
     "metadata": {},
     "output_type": "execute_result"
    }
   ],
   "source": [
    "model_RFC =  accuracy_score(y_test, y_pred)\n",
    "model_RFC"
   ]
  },
  {
   "cell_type": "code",
   "execution_count": 129,
   "metadata": {},
   "outputs": [
    {
     "name": "stdout",
     "output_type": "stream",
     "text": [
      "Training set score: 0.9644\n",
      "Test set score: 0.4948\n"
     ]
    }
   ],
   "source": [
    "print('Training set score: {:.4f}'.format(clf.score(X_train, y_train)))\n",
    "print('Test set score: {:.4f}'.format(clf.score(X_test, y_test)))"
   ]
  },
  {
   "cell_type": "code",
   "execution_count": 130,
   "metadata": {},
   "outputs": [
    {
     "data": {
      "text/plain": [
       "<matplotlib.axes._subplots.AxesSubplot at 0x26157644a30>"
      ]
     },
     "execution_count": 130,
     "metadata": {},
     "output_type": "execute_result"
    },
    {
     "data": {
      "image/png": "[encoded data removed]",
      "text/plain": [
       "<Figure size 800x640 with 1 Axes>"
      ]
     },
     "metadata": {},
     "output_type": "display_data"
    }
   ],
   "source": [
    "plt.figure(num=None, figsize=(10,8), dpi=80, facecolor='w', edgecolor='k')\n",
    "plt.title(\"Random Forest Classifier: Feature Importance for Salary Determination\", fontsize=15)\n",
    "plt.ylabel('Feature', size=12)\n",
    "plt.xlabel('Importance', size=12)\n",
    "feat_importances = pd.Series(clf.feature_importances_, index= X.columns)\n",
    "feat_importances.nlargest(7).sort_values().plot(kind='barh')"
   ]
  },
  {
   "cell_type": "code",
   "execution_count": 131,
   "metadata": {},
   "outputs": [
    {
     "name": "stdout",
     "output_type": "stream",
     "text": [
      "Confusion matrix\n",
      "\n",
      " [[1641  202   65   74   21   69    0]\n",
      " [ 466  155   67   41   13   26    0]\n",
      " [ 177   78   56   64   14   27    0]\n",
      " [ 205   72   40  100   22   88    0]\n",
      " [  39   28   23   37   14   74    0]\n",
      " [ 111   41   25   73   24  319    2]\n",
      " [   8    5    1    1    0   10    0]]\n"
     ]
    }
   ],
   "source": [
    "cm = confusion_matrix(y_test, y_pred)\n",
    "print('Confusion matrix\\n\\n', cm)"
   ]
  },
  {
   "cell_type": "code",
   "execution_count": 132,
   "metadata": {},
   "outputs": [
    {
     "data": {
      "image/png": "[encoded data removed]",
      "text/plain": [
       "<Figure size 720x576 with 2 Axes>"
      ]
     },
     "metadata": {},
     "output_type": "display_data"
    }
   ],
   "source": [
    "from sklearn.metrics import ConfusionMatrixDisplay\n",
    "cm_display = ConfusionMatrixDisplay(cm, display_labels=clf.classes_).plot()\n",
    "plt.grid(False)"
   ]
  },
  {
   "cell_type": "code",
   "execution_count": 133,
   "metadata": {},
   "outputs": [
    {
     "data": {
      "text/plain": [
       "<matplotlib.axes._subplots.AxesSubplot at 0x2616a9aaaf0>"
      ]
     },
     "execution_count": 133,
     "metadata": {},
     "output_type": "execute_result"
    },
    {
     "data": {
      "image/png": "[encoded data removed]",
      "text/plain": [
       "<Figure size 720x576 with 2 Axes>"
      ]
     },
     "metadata": {},
     "output_type": "display_data"
    }
   ],
   "source": [
    "sns.set(rc = {'figure.figsize':(10,8)})\n",
    "cm = confusion_matrix(y_test, y_pred)\n",
    "rfc_cm = sns.heatmap(cm, annot=True, cmap='Blues', fmt = 'g', xticklabels=classes, yticklabels=classes)\n",
    "rfc_cm.set_xlabel(\"Predicted Value\", fontsize = 20)\n",
    "rfc_cm.set_ylabel(\"True Value\", fontsize = 20)\n",
    "rfc_cm"
   ]
  },
  {
   "cell_type": "code",
   "execution_count": 134,
   "metadata": {},
   "outputs": [
    {
     "name": "stdout",
     "output_type": "stream",
     "text": [
      "              precision    recall  f1-score   support\n",
      "\n",
      "           0       0.62      0.79      0.70      2072\n",
      "           1       0.27      0.20      0.23       768\n",
      "           2       0.20      0.13      0.16       416\n",
      "           3       0.26      0.19      0.22       527\n",
      "           4       0.13      0.07      0.09       215\n",
      "           5       0.52      0.54      0.53       595\n",
      "           6       0.00      0.00      0.00        25\n",
      "\n",
      "    accuracy                           0.49      4618\n",
      "   macro avg       0.29      0.27      0.27      4618\n",
      "weighted avg       0.44      0.49      0.46      4618\n",
      "\n"
     ]
    }
   ],
   "source": [
    "print(classification_report(y_test, y_pred))"
   ]
  },
  {
   "cell_type": "code",
   "execution_count": 135,
   "metadata": {},
   "outputs": [],
   "source": [
    "rfc=RandomForestClassifier(random_state=42)"
   ]
  },
  {
   "cell_type": "code",
   "execution_count": 136,
   "metadata": {},
   "outputs": [],
   "source": [
    "param_grid = { \n",
    "    'n_estimators': [200, 500],\n",
    "    'max_features': ['auto', 'sqrt', 'log2'],\n",
    "    'max_depth' : [4,5,6,7,8],\n",
    "    'criterion' :['gini', 'entropy']\n",
    "}"
   ]
  },
  {
   "cell_type": "code",
   "execution_count": 137,
   "metadata": {},
   "outputs": [
    {
     "data": {
      "text/plain": [
       "{'mean_fit_time': array([0.65629978, 1.49854584, 0.56115956, 1.49805994, 0.58819098,\n",
       "        1.41922469, 0.61356831, 1.46953721, 0.58470445, 1.48236632,\n",
       "        0.58782101, 1.49980645, 0.77291389, 1.58990326, 0.64567404,\n",
       "        1.57800841, 0.62442269, 1.60704274, 0.6818891 , 1.71250095,\n",
       "        0.70036654, 1.737498  , 0.70237498, 1.71582384, 0.75036983,\n",
       "        1.89187255, 0.73348794, 1.89927135, 0.76263118, 1.8699193 ,\n",
       "        0.55206747, 1.40898104, 0.56846776, 1.37209959, 0.57330689,\n",
       "        1.40982175, 0.60893807, 1.56145058, 0.61991749, 1.51778145,\n",
       "        0.66623154, 1.70003548, 0.88066497, 2.07524614, 0.76802626,\n",
       "        1.92472162, 0.70052147, 1.84245648, 0.77548952, 2.2070528 ,\n",
       "        0.90611167, 2.0085855 , 0.77033629, 1.93275928, 0.83363781,\n",
       "        2.09442821, 0.830127  , 2.13969221, 0.83033552, 2.10278454]),\n",
       " 'std_fit_time': array([0.04381945, 0.09277751, 0.00580836, 0.09014157, 0.01865363,\n",
       "        0.04155662, 0.01248594, 0.02557074, 0.00387926, 0.01307724,\n",
       "        0.01215634, 0.02026954, 0.09262171, 0.02006346, 0.01230579,\n",
       "        0.02899557, 0.00427693, 0.02625844, 0.00934691, 0.0321308 ,\n",
       "        0.02658256, 0.05495109, 0.00657005, 0.03209602, 0.02360005,\n",
       "        0.02235365, 0.0049434 , 0.04805048, 0.04372537, 0.0218639 ,\n",
       "        0.00557497, 0.03640303, 0.00319297, 0.00662903, 0.01601359,\n",
       "        0.02035848, 0.00682757, 0.03676283, 0.0103322 , 0.0169417 ,\n",
       "        0.0321515 , 0.1515473 , 0.11402944, 0.16020746, 0.05072365,\n",
       "        0.22247967, 0.01595118, 0.09837995, 0.01370196, 0.13378153,\n",
       "        0.10182155, 0.06477731, 0.02411574, 0.02611903, 0.00867903,\n",
       "        0.01706245, 0.00519383, 0.04115986, 0.00540568, 0.02296961]),\n",
       " 'mean_score_time': array([0.05208492, 0.11930494, 0.04667249, 0.12506137, 0.0467823 ,\n",
       "        0.114007  , 0.04990106, 0.1193862 , 0.04709706, 0.12338252,\n",
       "        0.04689789, 0.12136717, 0.0524066 , 0.12748027, 0.05791221,\n",
       "        0.12912612, 0.05129461, 0.13166723, 0.05477791, 0.14482322,\n",
       "        0.05654716, 0.14156146, 0.06028638, 0.1406733 , 0.06660876,\n",
       "        0.15549469, 0.0617538 , 0.15072289, 0.060358  , 0.16584373,\n",
       "        0.04307842, 0.11155653, 0.04679375, 0.10427122, 0.04439201,\n",
       "        0.10736885, 0.04476185, 0.11754084, 0.04803004, 0.12004743,\n",
       "        0.04906549, 0.12987723, 0.06079636, 0.14617267, 0.05749855,\n",
       "        0.13585272, 0.05481491, 0.13328156, 0.05922308, 0.16460938,\n",
       "        0.0673789 , 0.14349236, 0.05652995, 0.14056463, 0.06284251,\n",
       "        0.15312657, 0.06016684, 0.15921831, 0.06332183, 0.15412345]),\n",
       " 'std_score_time': array([3.61582552e-03, 7.85108968e-03, 2.64961981e-03, 1.37423410e-02,\n",
       "        6.15036859e-03, 9.70636756e-03, 5.32636405e-03, 3.37312037e-03,\n",
       "        3.40909145e-03, 9.64912658e-03, 3.53386852e-03, 3.25366012e-03,\n",
       "        2.93535802e-03, 2.00295372e-03, 9.79347242e-04, 3.48000457e-03,\n",
       "        3.53422373e-03, 4.30150463e-03, 3.79608220e-03, 7.68361523e-03,\n",
       "        3.62945384e-03, 9.36358103e-03, 3.46862731e-03, 5.50978989e-03,\n",
       "        5.39693724e-05, 6.56155488e-03, 4.78394143e-03, 3.68448789e-03,\n",
       "        3.08784584e-03, 2.13861480e-02, 2.48620081e-03, 4.58030153e-03,\n",
       "        3.95390512e-03, 3.88157171e-03, 3.79119484e-03, 3.95528836e-03,\n",
       "        3.78710673e-03, 1.24906103e-03, 3.15891889e-03, 6.68724650e-03,\n",
       "        4.68660187e-03, 1.98821631e-02, 6.41579195e-03, 1.72822588e-02,\n",
       "        7.13201269e-03, 1.19492913e-02, 2.38581146e-03, 4.71979381e-03,\n",
       "        3.89889095e-03, 1.64606748e-02, 1.17719388e-02, 6.64490900e-03,\n",
       "        1.06182992e-03, 4.10655486e-03, 4.79224635e-03, 3.86619699e-03,\n",
       "        3.46905420e-03, 5.72040261e-03, 3.69797847e-03, 3.05173829e-03]),\n",
       " 'param_criterion': masked_array(data=['gini', 'gini', 'gini', 'gini', 'gini', 'gini', 'gini',\n",
       "                    'gini', 'gini', 'gini', 'gini', 'gini', 'gini', 'gini',\n",
       "                    'gini', 'gini', 'gini', 'gini', 'gini', 'gini', 'gini',\n",
       "                    'gini', 'gini', 'gini', 'gini', 'gini', 'gini', 'gini',\n",
       "                    'gini', 'gini', 'entropy', 'entropy', 'entropy',\n",
       "                    'entropy', 'entropy', 'entropy', 'entropy', 'entropy',\n",
       "                    'entropy', 'entropy', 'entropy', 'entropy', 'entropy',\n",
       "                    'entropy', 'entropy', 'entropy', 'entropy', 'entropy',\n",
       "                    'entropy', 'entropy', 'entropy', 'entropy', 'entropy',\n",
       "                    'entropy', 'entropy', 'entropy', 'entropy', 'entropy',\n",
       "                    'entropy', 'entropy'],\n",
       "              mask=[False, False, False, False, False, False, False, False,\n",
       "                    False, False, False, False, False, False, False, False,\n",
       "                    False, False, False, False, False, False, False, False,\n",
       "                    False, False, False, False, False, False, False, False,\n",
       "                    False, False, False, False, False, False, False, False,\n",
       "                    False, False, False, False, False, False, False, False,\n",
       "                    False, False, False, False, False, False, False, False,\n",
       "                    False, False, False, False],\n",
       "        fill_value='?',\n",
       "             dtype=object),\n",
       " 'param_max_depth': masked_array(data=[4, 4, 4, 4, 4, 4, 5, 5, 5, 5, 5, 5, 6, 6, 6, 6, 6, 6,\n",
       "                    7, 7, 7, 7, 7, 7, 8, 8, 8, 8, 8, 8, 4, 4, 4, 4, 4, 4,\n",
       "                    5, 5, 5, 5, 5, 5, 6, 6, 6, 6, 6, 6, 7, 7, 7, 7, 7, 7,\n",
       "                    8, 8, 8, 8, 8, 8],\n",
       "              mask=[False, False, False, False, False, False, False, False,\n",
       "                    False, False, False, False, False, False, False, False,\n",
       "                    False, False, False, False, False, False, False, False,\n",
       "                    False, False, False, False, False, False, False, False,\n",
       "                    False, False, False, False, False, False, False, False,\n",
       "                    False, False, False, False, False, False, False, False,\n",
       "                    False, False, False, False, False, False, False, False,\n",
       "                    False, False, False, False],\n",
       "        fill_value='?',\n",
       "             dtype=object),\n",
       " 'param_max_features': masked_array(data=['auto', 'auto', 'sqrt', 'sqrt', 'log2', 'log2', 'auto',\n",
       "                    'auto', 'sqrt', 'sqrt', 'log2', 'log2', 'auto', 'auto',\n",
       "                    'sqrt', 'sqrt', 'log2', 'log2', 'auto', 'auto', 'sqrt',\n",
       "                    'sqrt', 'log2', 'log2', 'auto', 'auto', 'sqrt', 'sqrt',\n",
       "                    'log2', 'log2', 'auto', 'auto', 'sqrt', 'sqrt', 'log2',\n",
       "                    'log2', 'auto', 'auto', 'sqrt', 'sqrt', 'log2', 'log2',\n",
       "                    'auto', 'auto', 'sqrt', 'sqrt', 'log2', 'log2', 'auto',\n",
       "                    'auto', 'sqrt', 'sqrt', 'log2', 'log2', 'auto', 'auto',\n",
       "                    'sqrt', 'sqrt', 'log2', 'log2'],\n",
       "              mask=[False, False, False, False, False, False, False, False,\n",
       "                    False, False, False, False, False, False, False, False,\n",
       "                    False, False, False, False, False, False, False, False,\n",
       "                    False, False, False, False, False, False, False, False,\n",
       "                    False, False, False, False, False, False, False, False,\n",
       "                    False, False, False, False, False, False, False, False,\n",
       "                    False, False, False, False, False, False, False, False,\n",
       "                    False, False, False, False],\n",
       "        fill_value='?',\n",
       "             dtype=object),\n",
       " 'param_n_estimators': masked_array(data=[200, 500, 200, 500, 200, 500, 200, 500, 200, 500, 200,\n",
       "                    500, 200, 500, 200, 500, 200, 500, 200, 500, 200, 500,\n",
       "                    200, 500, 200, 500, 200, 500, 200, 500, 200, 500, 200,\n",
       "                    500, 200, 500, 200, 500, 200, 500, 200, 500, 200, 500,\n",
       "                    200, 500, 200, 500, 200, 500, 200, 500, 200, 500, 200,\n",
       "                    500, 200, 500, 200, 500],\n",
       "              mask=[False, False, False, False, False, False, False, False,\n",
       "                    False, False, False, False, False, False, False, False,\n",
       "                    False, False, False, False, False, False, False, False,\n",
       "                    False, False, False, False, False, False, False, False,\n",
       "                    False, False, False, False, False, False, False, False,\n",
       "                    False, False, False, False, False, False, False, False,\n",
       "                    False, False, False, False, False, False, False, False,\n",
       "                    False, False, False, False],\n",
       "        fill_value='?',\n",
       "             dtype=object),\n",
       " 'params': [{'criterion': 'gini',\n",
       "   'max_depth': 4,\n",
       "   'max_features': 'auto',\n",
       "   'n_estimators': 200},\n",
       "  {'criterion': 'gini',\n",
       "   'max_depth': 4,\n",
       "   'max_features': 'auto',\n",
       "   'n_estimators': 500},\n",
       "  {'criterion': 'gini',\n",
       "   'max_depth': 4,\n",
       "   'max_features': 'sqrt',\n",
       "   'n_estimators': 200},\n",
       "  {'criterion': 'gini',\n",
       "   'max_depth': 4,\n",
       "   'max_features': 'sqrt',\n",
       "   'n_estimators': 500},\n",
       "  {'criterion': 'gini',\n",
       "   'max_depth': 4,\n",
       "   'max_features': 'log2',\n",
       "   'n_estimators': 200},\n",
       "  {'criterion': 'gini',\n",
       "   'max_depth': 4,\n",
       "   'max_features': 'log2',\n",
       "   'n_estimators': 500},\n",
       "  {'criterion': 'gini',\n",
       "   'max_depth': 5,\n",
       "   'max_features': 'auto',\n",
       "   'n_estimators': 200},\n",
       "  {'criterion': 'gini',\n",
       "   'max_depth': 5,\n",
       "   'max_features': 'auto',\n",
       "   'n_estimators': 500},\n",
       "  {'criterion': 'gini',\n",
       "   'max_depth': 5,\n",
       "   'max_features': 'sqrt',\n",
       "   'n_estimators': 200},\n",
       "  {'criterion': 'gini',\n",
       "   'max_depth': 5,\n",
       "   'max_features': 'sqrt',\n",
       "   'n_estimators': 500},\n",
       "  {'criterion': 'gini',\n",
       "   'max_depth': 5,\n",
       "   'max_features': 'log2',\n",
       "   'n_estimators': 200},\n",
       "  {'criterion': 'gini',\n",
       "   'max_depth': 5,\n",
       "   'max_features': 'log2',\n",
       "   'n_estimators': 500},\n",
       "  {'criterion': 'gini',\n",
       "   'max_depth': 6,\n",
       "   'max_features': 'auto',\n",
       "   'n_estimators': 200},\n",
       "  {'criterion': 'gini',\n",
       "   'max_depth': 6,\n",
       "   'max_features': 'auto',\n",
       "   'n_estimators': 500},\n",
       "  {'criterion': 'gini',\n",
       "   'max_depth': 6,\n",
       "   'max_features': 'sqrt',\n",
       "   'n_estimators': 200},\n",
       "  {'criterion': 'gini',\n",
       "   'max_depth': 6,\n",
       "   'max_features': 'sqrt',\n",
       "   'n_estimators': 500},\n",
       "  {'criterion': 'gini',\n",
       "   'max_depth': 6,\n",
       "   'max_features': 'log2',\n",
       "   'n_estimators': 200},\n",
       "  {'criterion': 'gini',\n",
       "   'max_depth': 6,\n",
       "   'max_features': 'log2',\n",
       "   'n_estimators': 500},\n",
       "  {'criterion': 'gini',\n",
       "   'max_depth': 7,\n",
       "   'max_features': 'auto',\n",
       "   'n_estimators': 200},\n",
       "  {'criterion': 'gini',\n",
       "   'max_depth': 7,\n",
       "   'max_features': 'auto',\n",
       "   'n_estimators': 500},\n",
       "  {'criterion': 'gini',\n",
       "   'max_depth': 7,\n",
       "   'max_features': 'sqrt',\n",
       "   'n_estimators': 200},\n",
       "  {'criterion': 'gini',\n",
       "   'max_depth': 7,\n",
       "   'max_features': 'sqrt',\n",
       "   'n_estimators': 500},\n",
       "  {'criterion': 'gini',\n",
       "   'max_depth': 7,\n",
       "   'max_features': 'log2',\n",
       "   'n_estimators': 200},\n",
       "  {'criterion': 'gini',\n",
       "   'max_depth': 7,\n",
       "   'max_features': 'log2',\n",
       "   'n_estimators': 500},\n",
       "  {'criterion': 'gini',\n",
       "   'max_depth': 8,\n",
       "   'max_features': 'auto',\n",
       "   'n_estimators': 200},\n",
       "  {'criterion': 'gini',\n",
       "   'max_depth': 8,\n",
       "   'max_features': 'auto',\n",
       "   'n_estimators': 500},\n",
       "  {'criterion': 'gini',\n",
       "   'max_depth': 8,\n",
       "   'max_features': 'sqrt',\n",
       "   'n_estimators': 200},\n",
       "  {'criterion': 'gini',\n",
       "   'max_depth': 8,\n",
       "   'max_features': 'sqrt',\n",
       "   'n_estimators': 500},\n",
       "  {'criterion': 'gini',\n",
       "   'max_depth': 8,\n",
       "   'max_features': 'log2',\n",
       "   'n_estimators': 200},\n",
       "  {'criterion': 'gini',\n",
       "   'max_depth': 8,\n",
       "   'max_features': 'log2',\n",
       "   'n_estimators': 500},\n",
       "  {'criterion': 'entropy',\n",
       "   'max_depth': 4,\n",
       "   'max_features': 'auto',\n",
       "   'n_estimators': 200},\n",
       "  {'criterion': 'entropy',\n",
       "   'max_depth': 4,\n",
       "   'max_features': 'auto',\n",
       "   'n_estimators': 500},\n",
       "  {'criterion': 'entropy',\n",
       "   'max_depth': 4,\n",
       "   'max_features': 'sqrt',\n",
       "   'n_estimators': 200},\n",
       "  {'criterion': 'entropy',\n",
       "   'max_depth': 4,\n",
       "   'max_features': 'sqrt',\n",
       "   'n_estimators': 500},\n",
       "  {'criterion': 'entropy',\n",
       "   'max_depth': 4,\n",
       "   'max_features': 'log2',\n",
       "   'n_estimators': 200},\n",
       "  {'criterion': 'entropy',\n",
       "   'max_depth': 4,\n",
       "   'max_features': 'log2',\n",
       "   'n_estimators': 500},\n",
       "  {'criterion': 'entropy',\n",
       "   'max_depth': 5,\n",
       "   'max_features': 'auto',\n",
       "   'n_estimators': 200},\n",
       "  {'criterion': 'entropy',\n",
       "   'max_depth': 5,\n",
       "   'max_features': 'auto',\n",
       "   'n_estimators': 500},\n",
       "  {'criterion': 'entropy',\n",
       "   'max_depth': 5,\n",
       "   'max_features': 'sqrt',\n",
       "   'n_estimators': 200},\n",
       "  {'criterion': 'entropy',\n",
       "   'max_depth': 5,\n",
       "   'max_features': 'sqrt',\n",
       "   'n_estimators': 500},\n",
       "  {'criterion': 'entropy',\n",
       "   'max_depth': 5,\n",
       "   'max_features': 'log2',\n",
       "   'n_estimators': 200},\n",
       "  {'criterion': 'entropy',\n",
       "   'max_depth': 5,\n",
       "   'max_features': 'log2',\n",
       "   'n_estimators': 500},\n",
       "  {'criterion': 'entropy',\n",
       "   'max_depth': 6,\n",
       "   'max_features': 'auto',\n",
       "   'n_estimators': 200},\n",
       "  {'criterion': 'entropy',\n",
       "   'max_depth': 6,\n",
       "   'max_features': 'auto',\n",
       "   'n_estimators': 500},\n",
       "  {'criterion': 'entropy',\n",
       "   'max_depth': 6,\n",
       "   'max_features': 'sqrt',\n",
       "   'n_estimators': 200},\n",
       "  {'criterion': 'entropy',\n",
       "   'max_depth': 6,\n",
       "   'max_features': 'sqrt',\n",
       "   'n_estimators': 500},\n",
       "  {'criterion': 'entropy',\n",
       "   'max_depth': 6,\n",
       "   'max_features': 'log2',\n",
       "   'n_estimators': 200},\n",
       "  {'criterion': 'entropy',\n",
       "   'max_depth': 6,\n",
       "   'max_features': 'log2',\n",
       "   'n_estimators': 500},\n",
       "  {'criterion': 'entropy',\n",
       "   'max_depth': 7,\n",
       "   'max_features': 'auto',\n",
       "   'n_estimators': 200},\n",
       "  {'criterion': 'entropy',\n",
       "   'max_depth': 7,\n",
       "   'max_features': 'auto',\n",
       "   'n_estimators': 500},\n",
       "  {'criterion': 'entropy',\n",
       "   'max_depth': 7,\n",
       "   'max_features': 'sqrt',\n",
       "   'n_estimators': 200},\n",
       "  {'criterion': 'entropy',\n",
       "   'max_depth': 7,\n",
       "   'max_features': 'sqrt',\n",
       "   'n_estimators': 500},\n",
       "  {'criterion': 'entropy',\n",
       "   'max_depth': 7,\n",
       "   'max_features': 'log2',\n",
       "   'n_estimators': 200},\n",
       "  {'criterion': 'entropy',\n",
       "   'max_depth': 7,\n",
       "   'max_features': 'log2',\n",
       "   'n_estimators': 500},\n",
       "  {'criterion': 'entropy',\n",
       "   'max_depth': 8,\n",
       "   'max_features': 'auto',\n",
       "   'n_estimators': 200},\n",
       "  {'criterion': 'entropy',\n",
       "   'max_depth': 8,\n",
       "   'max_features': 'auto',\n",
       "   'n_estimators': 500},\n",
       "  {'criterion': 'entropy',\n",
       "   'max_depth': 8,\n",
       "   'max_features': 'sqrt',\n",
       "   'n_estimators': 200},\n",
       "  {'criterion': 'entropy',\n",
       "   'max_depth': 8,\n",
       "   'max_features': 'sqrt',\n",
       "   'n_estimators': 500},\n",
       "  {'criterion': 'entropy',\n",
       "   'max_depth': 8,\n",
       "   'max_features': 'log2',\n",
       "   'n_estimators': 200},\n",
       "  {'criterion': 'entropy',\n",
       "   'max_depth': 8,\n",
       "   'max_features': 'log2',\n",
       "   'n_estimators': 500}],\n",
       " 'split0_test_score': array([0.50440835, 0.50533643, 0.50440835, 0.50533643, 0.50440835,\n",
       "        0.50533643, 0.5062645 , 0.50580046, 0.5062645 , 0.50580046,\n",
       "        0.5062645 , 0.50580046, 0.51090487, 0.51183295, 0.51090487,\n",
       "        0.51183295, 0.51090487, 0.51183295, 0.51600928, 0.51786543,\n",
       "        0.51600928, 0.51786543, 0.51600928, 0.51786543, 0.51693735,\n",
       "        0.51972158, 0.51693735, 0.51972158, 0.51693735, 0.51972158,\n",
       "        0.50487239, 0.50533643, 0.50487239, 0.50533643, 0.50487239,\n",
       "        0.50533643, 0.50719258, 0.50812065, 0.50719258, 0.50812065,\n",
       "        0.50719258, 0.50812065, 0.51461717, 0.51508121, 0.51461717,\n",
       "        0.51508121, 0.51461717, 0.51508121, 0.51693735, 0.51508121,\n",
       "        0.51693735, 0.51508121, 0.51693735, 0.51508121, 0.51740139,\n",
       "        0.52157773, 0.51740139, 0.52157773, 0.51740139, 0.52157773]),\n",
       " 'split1_test_score': array([0.51693735, 0.51693735, 0.51693735, 0.51693735, 0.51693735,\n",
       "        0.51693735, 0.52064965, 0.52018561, 0.52064965, 0.52018561,\n",
       "        0.52064965, 0.52018561, 0.52529002, 0.52529002, 0.52529002,\n",
       "        0.52529002, 0.52529002, 0.52529002, 0.52761021, 0.52668213,\n",
       "        0.52761021, 0.52668213, 0.52761021, 0.52668213, 0.52993039,\n",
       "        0.53410673, 0.52993039, 0.53410673, 0.52993039, 0.53410673,\n",
       "        0.51740139, 0.51740139, 0.51740139, 0.51740139, 0.51740139,\n",
       "        0.51740139, 0.52111369, 0.52018561, 0.52111369, 0.52018561,\n",
       "        0.52111369, 0.52018561, 0.52714617, 0.52668213, 0.52714617,\n",
       "        0.52668213, 0.52714617, 0.52668213, 0.52714617, 0.52807425,\n",
       "        0.52714617, 0.52807425, 0.52714617, 0.52807425, 0.53271462,\n",
       "        0.53085847, 0.53271462, 0.53085847, 0.53271462, 0.53085847]),\n",
       " 'split2_test_score': array([0.4974478 , 0.4974478 , 0.4974478 , 0.4974478 , 0.4974478 ,\n",
       "        0.4974478 , 0.49930394, 0.49883991, 0.49930394, 0.49883991,\n",
       "        0.49930394, 0.49883991, 0.50208817, 0.50440835, 0.50208817,\n",
       "        0.50440835, 0.50208817, 0.50440835, 0.51183295, 0.51090487,\n",
       "        0.51183295, 0.51090487, 0.51183295, 0.51090487, 0.50858469,\n",
       "        0.51276102, 0.50858469, 0.51276102, 0.50858469, 0.51276102,\n",
       "        0.49837587, 0.49883991, 0.49837587, 0.49883991, 0.49837587,\n",
       "        0.49883991, 0.50023202, 0.50023202, 0.50023202, 0.50023202,\n",
       "        0.50023202, 0.50023202, 0.50440835, 0.50533643, 0.50440835,\n",
       "        0.50533643, 0.50440835, 0.50533643, 0.51183295, 0.51090487,\n",
       "        0.51183295, 0.51090487, 0.51183295, 0.51090487, 0.51044084,\n",
       "        0.51136891, 0.51044084, 0.51136891, 0.51044084, 0.51136891]),\n",
       " 'split3_test_score': array([0.5088208 , 0.50928505, 0.5088208 , 0.50928505, 0.5088208 ,\n",
       "        0.50928505, 0.51021356, 0.5097493 , 0.51021356, 0.5097493 ,\n",
       "        0.51021356, 0.5097493 , 0.51439183, 0.51346332, 0.51439183,\n",
       "        0.51346332, 0.51439183, 0.51346332, 0.52321263, 0.52089136,\n",
       "        0.52321263, 0.52089136, 0.52321263, 0.52089136, 0.5185701 ,\n",
       "        0.52274838, 0.5185701 , 0.52274838, 0.5185701 , 0.52274838,\n",
       "        0.5088208 , 0.5088208 , 0.5088208 , 0.5088208 , 0.5088208 ,\n",
       "        0.5088208 , 0.51114206, 0.51021356, 0.51114206, 0.51021356,\n",
       "        0.51114206, 0.51021356, 0.51485608, 0.51392758, 0.51485608,\n",
       "        0.51392758, 0.51485608, 0.51392758, 0.52135562, 0.51949861,\n",
       "        0.52135562, 0.51949861, 0.52135562, 0.51949861, 0.52274838,\n",
       "        0.52228412, 0.52274838, 0.52228412, 0.52274838, 0.52228412]),\n",
       " 'split4_test_score': array([0.51485608, 0.51439183, 0.51485608, 0.51439183, 0.51485608,\n",
       "        0.51439183, 0.51532033, 0.51439183, 0.51532033, 0.51439183,\n",
       "        0.51532033, 0.51439183, 0.51810585, 0.5185701 , 0.51810585,\n",
       "        0.5185701 , 0.51810585, 0.5185701 , 0.52460539, 0.52321263,\n",
       "        0.52460539, 0.52321263, 0.52460539, 0.52321263, 0.52831941,\n",
       "        0.52692665, 0.52831941, 0.52692665, 0.52831941, 0.52692665,\n",
       "        0.51439183, 0.51532033, 0.51439183, 0.51532033, 0.51439183,\n",
       "        0.51532033, 0.51532033, 0.51439183, 0.51532033, 0.51439183,\n",
       "        0.51532033, 0.51439183, 0.52089136, 0.51996286, 0.52089136,\n",
       "        0.51996286, 0.52089136, 0.51996286, 0.52831941, 0.52692665,\n",
       "        0.52831941, 0.52692665, 0.52831941, 0.52692665, 0.53110492,\n",
       "        0.53017642, 0.53110492, 0.53017642, 0.53110492, 0.53017642]),\n",
       " 'mean_test_score': array([0.50849408, 0.50867969, 0.50849408, 0.50867969, 0.50849408,\n",
       "        0.50867969, 0.5103504 , 0.50979342, 0.5103504 , 0.50979342,\n",
       "        0.5103504 , 0.50979342, 0.51415615, 0.51471295, 0.51415615,\n",
       "        0.51471295, 0.51415615, 0.51471295, 0.52065409, 0.51991129,\n",
       "        0.52065409, 0.51991129, 0.52065409, 0.51991129, 0.52046839,\n",
       "        0.52325287, 0.52046839, 0.52325287, 0.52046839, 0.52325287,\n",
       "        0.50877246, 0.50914377, 0.50877246, 0.50914377, 0.50877246,\n",
       "        0.50914377, 0.51100014, 0.51062873, 0.51100014, 0.51062873,\n",
       "        0.51100014, 0.51062873, 0.51638383, 0.51619804, 0.51638383,\n",
       "        0.51619804, 0.51638383, 0.51619804, 0.5211183 , 0.52009712,\n",
       "        0.5211183 , 0.52009712, 0.5211183 , 0.52009712, 0.52288203,\n",
       "        0.52325313, 0.52288203, 0.52325313, 0.52288203, 0.52325313]),\n",
       " 'std_test_score': array([0.00707933, 0.00690676, 0.00707933, 0.00690676, 0.00707933,\n",
       "        0.00690676, 0.00734183, 0.00728105, 0.00734183, 0.00728105,\n",
       "        0.00734183, 0.00728105, 0.00769189, 0.0069684 , 0.00769189,\n",
       "        0.0069684 , 0.00769189, 0.0069684 , 0.00582981, 0.00534799,\n",
       "        0.00582981, 0.00534799, 0.00582981, 0.00534799, 0.00785445,\n",
       "        0.0071289 , 0.00785445, 0.0071289 , 0.00785445, 0.0071289 ,\n",
       "        0.00677256, 0.00673956, 0.00677256, 0.00673956, 0.00677256,\n",
       "        0.00673956, 0.00709109, 0.00663399, 0.00709109, 0.00663399,\n",
       "        0.00709109, 0.00663399, 0.00755001, 0.00704936, 0.00755001,\n",
       "        0.00704936, 0.00755001, 0.00704936, 0.00619589, 0.00663765,\n",
       "        0.00619589, 0.00663765, 0.00619589, 0.00663765, 0.00835625,\n",
       "        0.00708172, 0.00835625, 0.00708172, 0.00835625, 0.00708172]),\n",
       " 'rank_test_score': array([58, 55, 58, 55, 58, 55, 43, 46, 43, 46, 43, 46, 34, 31, 34, 31, 34,\n",
       "        31, 13, 22, 13, 22, 13, 22, 16,  4, 16,  4, 16,  4, 52, 49, 52, 49,\n",
       "        52, 49, 37, 40, 37, 40, 37, 40, 25, 28, 25, 28, 25, 28, 10, 19, 10,\n",
       "        19, 10, 19,  7,  1,  7,  1,  7,  1])}"
      ]
     },
     "execution_count": 137,
     "metadata": {},
     "output_type": "execute_result"
    }
   ],
   "source": [
    "CV_rfc = GridSearchCV(estimator=rfc, param_grid=param_grid, cv= 5)\n",
    "CV_rfc.fit(X_train, y_train.values.ravel())\n",
    "CV_rfc.cv_results_"
   ]
  },
  {
   "cell_type": "code",
   "execution_count": 138,
   "metadata": {},
   "outputs": [
    {
     "data": {
      "text/plain": [
       "{'criterion': 'entropy',\n",
       " 'max_depth': 8,\n",
       " 'max_features': 'auto',\n",
       " 'n_estimators': 500}"
      ]
     },
     "execution_count": 138,
     "metadata": {},
     "output_type": "execute_result"
    }
   ],
   "source": [
    "CV_rfc.best_params_"
   ]
  },
  {
   "cell_type": "code",
   "execution_count": 139,
   "metadata": {},
   "outputs": [
    {
     "data": {
      "text/plain": [
       "0.5232531285882629"
      ]
     },
     "execution_count": 139,
     "metadata": {},
     "output_type": "execute_result"
    }
   ],
   "source": [
    "CV_rfc.best_score_"
   ]
  },
  {
   "cell_type": "code",
   "execution_count": 140,
   "metadata": {},
   "outputs": [
    {
     "data": {
      "text/plain": [
       "RandomForestClassifier(criterion='entropy', max_depth=8, n_estimators=500,\n",
       "                       random_state=42)"
      ]
     },
     "execution_count": 140,
     "metadata": {},
     "output_type": "execute_result"
    }
   ],
   "source": [
    "rfc1=RandomForestClassifier(random_state=42, max_features='auto', n_estimators= 500, max_depth=8, criterion='entropy')\n",
    "rfc1.fit(X_train, y_train.values.ravel())"
   ]
  },
  {
   "cell_type": "code",
   "execution_count": 141,
   "metadata": {},
   "outputs": [],
   "source": [
    "y_pred=rfc1.predict(X_test)"
   ]
  },
  {
   "cell_type": "code",
   "execution_count": 142,
   "metadata": {},
   "outputs": [
    {
     "data": {
      "text/plain": [
       "0.5223040277176266"
      ]
     },
     "execution_count": 142,
     "metadata": {},
     "output_type": "execute_result"
    }
   ],
   "source": [
    "model_RFC_1 = accuracy_score(y_test, y_pred)\n",
    "model_RFC_1"
   ]
  },
  {
   "cell_type": "code",
   "execution_count": 143,
   "metadata": {},
   "outputs": [
    {
     "name": "stderr",
     "output_type": "stream",
     "text": [
      "C:\\Users\\annak\\Anaconda3\\lib\\site-packages\\sklearn\\model_selection\\_validation.py:531: DataConversionWarning: A column-vector y was passed when a 1d array was expected. Please change the shape of y to (n_samples,), for example using ravel().\n",
      "  estimator.fit(X_train, y_train, **fit_params)\n",
      "C:\\Users\\annak\\Anaconda3\\lib\\site-packages\\sklearn\\model_selection\\_validation.py:531: DataConversionWarning: A column-vector y was passed when a 1d array was expected. Please change the shape of y to (n_samples,), for example using ravel().\n",
      "  estimator.fit(X_train, y_train, **fit_params)\n",
      "C:\\Users\\annak\\Anaconda3\\lib\\site-packages\\sklearn\\model_selection\\_validation.py:531: DataConversionWarning: A column-vector y was passed when a 1d array was expected. Please change the shape of y to (n_samples,), for example using ravel().\n",
      "  estimator.fit(X_train, y_train, **fit_params)\n",
      "C:\\Users\\annak\\Anaconda3\\lib\\site-packages\\sklearn\\model_selection\\_validation.py:531: DataConversionWarning: A column-vector y was passed when a 1d array was expected. Please change the shape of y to (n_samples,), for example using ravel().\n",
      "  estimator.fit(X_train, y_train, **fit_params)\n",
      "C:\\Users\\annak\\Anaconda3\\lib\\site-packages\\sklearn\\model_selection\\_validation.py:531: DataConversionWarning: A column-vector y was passed when a 1d array was expected. Please change the shape of y to (n_samples,), for example using ravel().\n",
      "  estimator.fit(X_train, y_train, **fit_params)\n",
      "C:\\Users\\annak\\Anaconda3\\lib\\site-packages\\sklearn\\model_selection\\_validation.py:531: DataConversionWarning: A column-vector y was passed when a 1d array was expected. Please change the shape of y to (n_samples,), for example using ravel().\n",
      "  estimator.fit(X_train, y_train, **fit_params)\n",
      "C:\\Users\\annak\\Anaconda3\\lib\\site-packages\\sklearn\\model_selection\\_validation.py:531: DataConversionWarning: A column-vector y was passed when a 1d array was expected. Please change the shape of y to (n_samples,), for example using ravel().\n",
      "  estimator.fit(X_train, y_train, **fit_params)\n",
      "C:\\Users\\annak\\Anaconda3\\lib\\site-packages\\sklearn\\model_selection\\_validation.py:531: DataConversionWarning: A column-vector y was passed when a 1d array was expected. Please change the shape of y to (n_samples,), for example using ravel().\n",
      "  estimator.fit(X_train, y_train, **fit_params)\n",
      "C:\\Users\\annak\\Anaconda3\\lib\\site-packages\\sklearn\\model_selection\\_validation.py:531: DataConversionWarning: A column-vector y was passed when a 1d array was expected. Please change the shape of y to (n_samples,), for example using ravel().\n",
      "  estimator.fit(X_train, y_train, **fit_params)\n",
      "C:\\Users\\annak\\Anaconda3\\lib\\site-packages\\sklearn\\model_selection\\_validation.py:531: DataConversionWarning: A column-vector y was passed when a 1d array was expected. Please change the shape of y to (n_samples,), for example using ravel().\n",
      "  estimator.fit(X_train, y_train, **fit_params)\n"
     ]
    }
   ],
   "source": [
    "rfc_cv_score = cross_val_score(clf, X_train, y_train, cv=10)"
   ]
  },
  {
   "cell_type": "code",
   "execution_count": 144,
   "metadata": {},
   "outputs": [
    {
     "data": {
      "text/plain": [
       "array([0.49721707, 0.49165121, 0.52319109, 0.50603528, 0.48932219,\n",
       "       0.48746518, 0.49582173, 0.49303621, 0.50510678, 0.51810585])"
      ]
     },
     "execution_count": 144,
     "metadata": {},
     "output_type": "execute_result"
    }
   ],
   "source": [
    "rfc_cv_score"
   ]
  },
  {
   "cell_type": "code",
   "execution_count": 145,
   "metadata": {},
   "outputs": [
    {
     "name": "stdout",
     "output_type": "stream",
     "text": [
      "Mean AUC Score - Random Forest:  0.5006952591114947\n"
     ]
    }
   ],
   "source": [
    "print(\"Mean AUC Score - Random Forest: \", rfc_cv_score.mean())"
   ]
  },
  {
   "cell_type": "code",
   "execution_count": 146,
   "metadata": {},
   "outputs": [],
   "source": [
    "from sklearn.neighbors import KNeighborsClassifier\n",
    "classifier = KNeighborsClassifier(n_neighbors=3)\n",
    "classifier.fit(X_train, y_train.values.ravel())\n",
    "y_pred = classifier.predict(X_test)"
   ]
  },
  {
   "cell_type": "code",
   "execution_count": 147,
   "metadata": {},
   "outputs": [
    {
     "data": {
      "text/plain": [
       "array([0, 0, 0, ..., 0, 1, 0], dtype=int64)"
      ]
     },
     "execution_count": 147,
     "metadata": {},
     "output_type": "execute_result"
    }
   ],
   "source": [
    "y_pred"
   ]
  },
  {
   "cell_type": "code",
   "execution_count": 148,
   "metadata": {},
   "outputs": [
    {
     "data": {
      "text/plain": [
       "<matplotlib.axes._subplots.AxesSubplot at 0x2615774ae20>"
      ]
     },
     "execution_count": 148,
     "metadata": {},
     "output_type": "execute_result"
    },
    {
     "data": {
      "image/png": "[encoded data removed]",
      "text/plain": [
       "<Figure size 720x576 with 2 Axes>"
      ]
     },
     "metadata": {},
     "output_type": "display_data"
    }
   ],
   "source": [
    "sns.set(rc = {'figure.figsize':(10,8)})\n",
    "cm = confusion_matrix(y_test, y_pred)\n",
    "knn_cm = sns.heatmap(cm, annot=True, cmap='Blues', fmt = 'g', xticklabels=classes, yticklabels=classes)\n",
    "knn_cm.set_xlabel(\"Predicted Value\", fontsize = 20)\n",
    "knn_cm.set_ylabel(\"True Value\", fontsize = 20)\n",
    "knn_cm"
   ]
  },
  {
   "cell_type": "code",
   "execution_count": 149,
   "metadata": {},
   "outputs": [
    {
     "name": "stdout",
     "output_type": "stream",
     "text": [
      "Accuracy of the model: 0.46297098310957124\n"
     ]
    }
   ],
   "source": [
    "accuracy = accuracy_score(y_test, y_pred)\n",
    "print('Accuracy of the model:', accuracy)"
   ]
  },
  {
   "cell_type": "code",
   "execution_count": 150,
   "metadata": {},
   "outputs": [
    {
     "data": {
      "text/plain": [
       "0.46297098310957124"
      ]
     },
     "execution_count": 150,
     "metadata": {},
     "output_type": "execute_result"
    }
   ],
   "source": [
    "model_KNN =  accuracy_score(y_test, y_pred)\n",
    "model_KNN"
   ]
  },
  {
   "cell_type": "code",
   "execution_count": 151,
   "metadata": {},
   "outputs": [
    {
     "name": "stdout",
     "output_type": "stream",
     "text": [
      "Training set score: 0.6644\n",
      "Test set score: 0.4630\n"
     ]
    }
   ],
   "source": [
    "print('Training set score: {:.4f}'.format(classifier.score(X_train, y_train)))\n",
    "print('Test set score: {:.4f}'.format(classifier.score(X_test, y_test)))"
   ]
  },
  {
   "cell_type": "code",
   "execution_count": 152,
   "metadata": {},
   "outputs": [
    {
     "name": "stdout",
     "output_type": "stream",
     "text": [
      "              precision    recall  f1-score   support\n",
      "\n",
      "           0       0.57      0.78      0.66      2072\n",
      "           1       0.25      0.22      0.24       768\n",
      "           2       0.12      0.08      0.10       416\n",
      "           3       0.23      0.13      0.17       527\n",
      "           4       0.13      0.05      0.07       215\n",
      "           5       0.52      0.40      0.45       595\n",
      "           6       0.00      0.00      0.00        25\n",
      "\n",
      "    accuracy                           0.46      4618\n",
      "   macro avg       0.26      0.24      0.24      4618\n",
      "weighted avg       0.41      0.46      0.42      4618\n",
      "\n"
     ]
    }
   ],
   "source": [
    "print(classification_report(y_test, y_pred))"
   ]
  },
  {
   "cell_type": "code",
   "execution_count": 153,
   "metadata": {},
   "outputs": [
    {
     "name": "stdout",
     "output_type": "stream",
     "text": [
      "Fitting 10 folds for each of 30 candidates, totalling 300 fits\n"
     ]
    },
    {
     "name": "stderr",
     "output_type": "stream",
     "text": [
      "[Parallel(n_jobs=1)]: Using backend SequentialBackend with 1 concurrent workers.\n"
     ]
    },
    {
     "name": "stdout",
     "output_type": "stream",
     "text": [
      "{'n_neighbors': 30}\n",
      "0.5064523353023154\n"
     ]
    },
    {
     "name": "stderr",
     "output_type": "stream",
     "text": [
      "[Parallel(n_jobs=1)]: Done 300 out of 300 | elapsed:   21.2s finished\n"
     ]
    }
   ],
   "source": [
    "knn = KNeighborsClassifier()\n",
    "k_range = list(range(1, 31))\n",
    "param_grid = dict(n_neighbors=k_range)\n",
    "grid = GridSearchCV(knn, param_grid, cv=10, scoring='accuracy', return_train_score=False,verbose=1)\n",
    "grid_search=grid.fit(X_train, y_train.values.ravel())\n",
    "print(grid_search.best_params_)\n",
    "accuracy = grid_search.best_score_ \n",
    "print(accuracy)"
   ]
  },
  {
   "cell_type": "code",
   "execution_count": 154,
   "metadata": {},
   "outputs": [
    {
     "name": "stderr",
     "output_type": "stream",
     "text": [
      "<ipython-input-154-08b82e78acc4>:2: DataConversionWarning: A column-vector y was passed when a 1d array was expected. Please change the shape of y to (n_samples, ), for example using ravel().\n",
      "  knn.fit(X_train, y_train)\n"
     ]
    }
   ],
   "source": [
    "knn = KNeighborsClassifier(n_neighbors=30)\n",
    "knn.fit(X_train, y_train)\n",
    "y_pred=knn.predict(X_test) \n",
    "model_KNN_1=accuracy_score(y_test, y_pred)"
   ]
  },
  {
   "cell_type": "code",
   "execution_count": 155,
   "metadata": {},
   "outputs": [
    {
     "data": {
      "text/plain": [
       "0.498051104374188"
      ]
     },
     "execution_count": 155,
     "metadata": {},
     "output_type": "execute_result"
    }
   ],
   "source": [
    "model_KNN_1"
   ]
  },
  {
   "cell_type": "code",
   "execution_count": 156,
   "metadata": {},
   "outputs": [
    {
     "name": "stdout",
     "output_type": "stream",
     "text": [
      "Training set score: 0.5372\n",
      "Test set score: 0.4981\n"
     ]
    }
   ],
   "source": [
    "print('Training set score: {:.4f}'.format(knn.score(X_train, y_train)))\n",
    "print('Test set score: {:.4f}'.format(knn.score(X_test, y_test)))"
   ]
  },
  {
   "cell_type": "code",
   "execution_count": 157,
   "metadata": {},
   "outputs": [
    {
     "data": {
      "text/html": [
       "<div>\n",
       "<style scoped>\n",
       "    .dataframe tbody tr th:only-of-type {\n",
       "        vertical-align: middle;\n",
       "    }\n",
       "\n",
       "    .dataframe tbody tr th {\n",
       "        vertical-align: top;\n",
       "    }\n",
       "\n",
       "    .dataframe thead th {\n",
       "        text-align: right;\n",
       "    }\n",
       "</style>\n",
       "<table border=\"1\" class=\"dataframe\">\n",
       "  <thead>\n",
       "    <tr style=\"text-align: right;\">\n",
       "      <th></th>\n",
       "      <th>Model Accuracy Scores on Testing Data</th>\n",
       "    </tr>\n",
       "  </thead>\n",
       "  <tbody>\n",
       "    <tr>\n",
       "      <th>Light Gradient Boosting Machine Classifier</th>\n",
       "      <td>0.553486</td>\n",
       "    </tr>\n",
       "    <tr>\n",
       "      <th>Random Forest Classifier</th>\n",
       "      <td>0.522304</td>\n",
       "    </tr>\n",
       "    <tr>\n",
       "      <th>K-Nearest Neighbors Classifier</th>\n",
       "      <td>0.498051</td>\n",
       "    </tr>\n",
       "  </tbody>\n",
       "</table>\n",
       "</div>"
      ],
      "text/plain": [
       "                                            Model Accuracy Scores on Testing Data\n",
       "Light Gradient Boosting Machine Classifier                               0.553486\n",
       "Random Forest Classifier                                                 0.522304\n",
       "K-Nearest Neighbors Classifier                                           0.498051"
      ]
     },
     "execution_count": 157,
     "metadata": {},
     "output_type": "execute_result"
    }
   ],
   "source": [
    "Acc_Score = [model_LGBM_1, model_RFC_1, model_KNN_1]\n",
    "models = ['Light Gradient Boosting Machine Classifier', 'Random Forest Classifier', 'K-Nearest Neighbors Classifier']\n",
    "\n",
    "results_df = pd.DataFrame({'Model Accuracy Scores on Testing Data': Acc_Score}, index = models) \n",
    "results_df"
   ]
  },
  {
   "cell_type": "code",
   "execution_count": 158,
   "metadata": {},
   "outputs": [
    {
     "data": {
      "text/html": [
       "<div>\n",
       "<style scoped>\n",
       "    .dataframe tbody tr th:only-of-type {\n",
       "        vertical-align: middle;\n",
       "    }\n",
       "\n",
       "    .dataframe tbody tr th {\n",
       "        vertical-align: top;\n",
       "    }\n",
       "\n",
       "    .dataframe thead th {\n",
       "        text-align: right;\n",
       "    }\n",
       "</style>\n",
       "<table border=\"1\" class=\"dataframe\">\n",
       "  <thead>\n",
       "    <tr style=\"text-align: right;\">\n",
       "      <th></th>\n",
       "      <th>Model Accuracy Scores on Testing Data</th>\n",
       "    </tr>\n",
       "  </thead>\n",
       "  <tbody>\n",
       "    <tr>\n",
       "      <th>Light Gradient Boosting Machine Classifier</th>\n",
       "      <td>0.545691</td>\n",
       "    </tr>\n",
       "    <tr>\n",
       "      <th>Random Forest Classifier</th>\n",
       "      <td>0.494803</td>\n",
       "    </tr>\n",
       "    <tr>\n",
       "      <th>K-Nearest Neighbors Classifier</th>\n",
       "      <td>0.462971</td>\n",
       "    </tr>\n",
       "  </tbody>\n",
       "</table>\n",
       "</div>"
      ],
      "text/plain": [
       "                                            Model Accuracy Scores on Testing Data\n",
       "Light Gradient Boosting Machine Classifier                               0.545691\n",
       "Random Forest Classifier                                                 0.494803\n",
       "K-Nearest Neighbors Classifier                                           0.462971"
      ]
     },
     "execution_count": 158,
     "metadata": {},
     "output_type": "execute_result"
    }
   ],
   "source": [
    "Acc_Score = [model_LGBM, model_RFC, model_KNN]\n",
    "models = ['Light Gradient Boosting Machine Classifier', 'Random Forest Classifier', 'K-Nearest Neighbors Classifier']\n",
    "\n",
    "results_df = pd.DataFrame({'Model Accuracy Scores on Testing Data': Acc_Score}, index = models) \n",
    "results_df"
   ]
  },
  {
   "cell_type": "code",
   "execution_count": 74,
   "metadata": {},
   "outputs": [
    {
     "name": "stdout",
     "output_type": "stream",
     "text": [
      "[0.4183605424950431, 0.45632373992899267, 0.46319321347176495, 0.47396059968682336, 0.4773971021682919, 0.48807249919466394, 0.48797990708058353, 0.4905775680745836, 0.49002046501051677, 0.4906705047174606, 0.49837477153434173, 0.501903435468895, 0.5009744135689221, 0.5000468559163347, 0.5033889575075409, 0.5016253145978574, 0.5012534818941504, 0.5008819937192401, 0.5015326363515779, 0.500696034301287, 0.5032029119573888, 0.5046882617316362, 0.503296106996863, 0.5047812845067123, 0.5053378707775844, 0.5054304628916647, 0.5046880894672379, 0.5062665481487607, 0.5045959280141533, 0.5064523353023154, 0.5071948809911404, 0.5082151168900074, 0.5081226109081263, 0.5092355250532727, 0.509514593378501, 0.5095150240394968, 0.5102579142571184, 0.5096077022857763, 0.5098866844788054, 0.5106293162998295, 0.512950148405779, 0.511279097610176, 0.511092535266829, 0.5106287133744356, 0.5115574768778112, 0.5110936549854178, 0.51248589585239, 0.5120214710346028, 0.5126715968737457]\n",
      "cv_scores mean:0.4998761999050296\n"
     ]
    }
   ],
   "source": [
    "from sklearn.metrics import mean_squared_error as MSE\n",
    "k_list = list(range(1,50))\n",
    "cv_scores = []\n",
    "for k in k_list:\n",
    "    knn = KNeighborsClassifier(n_neighbors=k)\n",
    "    scores = cross_val_score(knn, X_train, y_train.values.ravel(), cv=10, scoring='accuracy')\n",
    "    cv_scores.append(scores.mean())\n",
    "print(cv_scores)\n",
    "print('cv_scores mean:{}'.format(np.mean(cv_scores)))"
   ]
  },
  {
   "cell_type": "code",
   "execution_count": null,
   "metadata": {
    "scrolled": false
   },
   "outputs": [],
   "source": [
    "MSE = [1 - x for x in cv_scores]\n",
    "\n",
    "plt.figure()\n",
    "plt.figure(figsize=(15,10))\n",
    "plt.title('The optimal number of neighbors', fontsize=20, fontweight='bold')\n",
    "plt.xlabel('Number of Neighbors K', fontsize=15)\n",
    "plt.ylabel('Misclassification Error', fontsize=15)\n",
    "sns.set_style(\"whitegrid\")\n",
    "plt.plot(k_list, MSE)\n",
    "\n",
    "plt.show()"
   ]
  },
  {
   "cell_type": "code",
   "execution_count": null,
   "metadata": {},
   "outputs": [],
   "source": [
    "best_k=k_list[MSE.index(min(MSE))]\n",
    "print(\"The optimal Number of neighbours is %d\" % best_k)"
   ]
  },
  {
   "cell_type": "code",
   "execution_count": null,
   "metadata": {},
   "outputs": [],
   "source": [
    "error_rate = []\n",
    "for i in range(1,50):\n",
    "    knn = KNeighborsClassifier(n_neighbors=i)\n",
    "    knn.fit(X_train,y_train.values.ravel())\n",
    "    pred_i = knn.predict(X_test)\n",
    "    error_rate.append(np.mean(pred_i != y_test.values.ravel()))"
   ]
  },
  {
   "cell_type": "code",
   "execution_count": null,
   "metadata": {},
   "outputs": [],
   "source": [
    "plt.figure(figsize=(10,6))\n",
    "plt.plot(range(1,50),error_rate,color='blue', linestyle='dashed',marker='o',markerfacecolor='red', markersize=10)\n",
    "plt.title('Error Rate vs. K Value')\n",
    "plt.xlabel('K')\n",
    "plt.ylabel('Error Rate')\n",
    "req_k_value = error_rate.index(min(error_rate))+1\n",
    "print(\"Minimum error:-\",min(error_rate),\"at K =\",req_k_value)"
   ]
  }
 ],
 "metadata": {
  "kernelspec": {
   "display_name": "Python 3",
   "language": "python",
   "name": "python3"
  },
  "language_info": {
   "codemirror_mode": {
    "name": "ipython",
    "version": 3
   },
   "file_extension": ".py",
   "mimetype": "text/x-python",
   "name": "python",
   "nbconvert_exporter": "python",
   "pygments_lexer": "ipython3",
   "version": "3.8.3"
  }
 },
 "nbformat": 4,
 "nbformat_minor": 4
}
